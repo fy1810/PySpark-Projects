{
  "nbformat": 4,
  "nbformat_minor": 0,
  "metadata": {
    "colab": {
      "provenance": []
    },
    "kernelspec": {
      "name": "python3",
      "display_name": "Python 3"
    },
    "language_info": {
      "name": "python"
    }
  },
  "cells": [
    {
      "cell_type": "code",
      "execution_count": null,
      "metadata": {
        "colab": {
          "base_uri": "https://localhost:8080/"
        },
        "id": "Tihd8nsZ6Gr5",
        "outputId": "33abcd96-8af5-435d-b0eb-41fe5946cfd0"
      },
      "outputs": [
        {
          "output_type": "stream",
          "name": "stdout",
          "text": [
            "Requirement already satisfied: pyspark in /usr/local/lib/python3.10/dist-packages (3.5.2)\n",
            "Requirement already satisfied: py4j==0.10.9.7 in /usr/local/lib/python3.10/dist-packages (from pyspark) (0.10.9.7)\n"
          ]
        }
      ],
      "source": [
        "pip install pyspark\n"
      ]
    },
    {
      "cell_type": "code",
      "source": [
        "from pyspark.sql import SparkSession\n",
        "from pyspark.sql.functions import col, avg, max, min"
      ],
      "metadata": {
        "id": "3phCUktk6kol"
      },
      "execution_count": null,
      "outputs": []
    },
    {
      "cell_type": "code",
      "source": [
        "spark = SparkSession.builder.appName(\"California Housing Analysis\").getOrCreate()\n",
        "spark"
      ],
      "metadata": {
        "colab": {
          "base_uri": "https://localhost:8080/",
          "height": 216
        },
        "id": "4CXbnQOp6myV",
        "outputId": "d674d3ae-6142-40b4-adde-ffe8691fa422"
      },
      "execution_count": null,
      "outputs": [
        {
          "output_type": "execute_result",
          "data": {
            "text/plain": [
              "<pyspark.sql.session.SparkSession at 0x7ba7d0966d10>"
            ],
            "text/html": [
              "\n",
              "            <div>\n",
              "                <p><b>SparkSession - in-memory</b></p>\n",
              "                \n",
              "        <div>\n",
              "            <p><b>SparkContext</b></p>\n",
              "\n",
              "            <p><a href=\"http://8618e5e3b224:4040\">Spark UI</a></p>\n",
              "\n",
              "            <dl>\n",
              "              <dt>Version</dt>\n",
              "                <dd><code>v3.5.2</code></dd>\n",
              "              <dt>Master</dt>\n",
              "                <dd><code>local[*]</code></dd>\n",
              "              <dt>AppName</dt>\n",
              "                <dd><code>California Housing Analysis</code></dd>\n",
              "            </dl>\n",
              "        </div>\n",
              "        \n",
              "            </div>\n",
              "        "
            ]
          },
          "metadata": {},
          "execution_count": 3
        }
      ]
    },
    {
      "cell_type": "code",
      "source": [
        "df_ayush= spark.read.csv(\"sample_data/california_housing_train.csv\", header=True, inferSchema=True)\n",
        "df_ayush"
      ],
      "metadata": {
        "colab": {
          "base_uri": "https://localhost:8080/"
        },
        "id": "x-QaJ6u962Nl",
        "outputId": "2f6e103f-b17a-45f4-e66a-499c6ec15e8b"
      },
      "execution_count": null,
      "outputs": [
        {
          "output_type": "execute_result",
          "data": {
            "text/plain": [
              "DataFrame[longitude: double, latitude: double, housing_median_age: double, total_rooms: double, total_bedrooms: double, population: double, households: double, median_income: double, median_house_value: double]"
            ]
          },
          "metadata": {},
          "execution_count": 4
        }
      ]
    },
    {
      "cell_type": "code",
      "source": [
        "df_ayush.show(5)"
      ],
      "metadata": {
        "colab": {
          "base_uri": "https://localhost:8080/"
        },
        "id": "ErmrIsG97DR7",
        "outputId": "3c827f6c-c496-4a1f-c9f3-159aea534198"
      },
      "execution_count": null,
      "outputs": [
        {
          "output_type": "stream",
          "name": "stdout",
          "text": [
            "+---------+--------+------------------+-----------+--------------+----------+----------+-------------+------------------+\n",
            "|longitude|latitude|housing_median_age|total_rooms|total_bedrooms|population|households|median_income|median_house_value|\n",
            "+---------+--------+------------------+-----------+--------------+----------+----------+-------------+------------------+\n",
            "|  -114.31|   34.19|              15.0|     5612.0|        1283.0|    1015.0|     472.0|       1.4936|           66900.0|\n",
            "|  -114.47|    34.4|              19.0|     7650.0|        1901.0|    1129.0|     463.0|         1.82|           80100.0|\n",
            "|  -114.56|   33.69|              17.0|      720.0|         174.0|     333.0|     117.0|       1.6509|           85700.0|\n",
            "|  -114.57|   33.64|              14.0|     1501.0|         337.0|     515.0|     226.0|       3.1917|           73400.0|\n",
            "|  -114.57|   33.57|              20.0|     1454.0|         326.0|     624.0|     262.0|        1.925|           65500.0|\n",
            "+---------+--------+------------------+-----------+--------------+----------+----------+-------------+------------------+\n",
            "only showing top 5 rows\n",
            "\n"
          ]
        }
      ]
    },
    {
      "cell_type": "code",
      "source": [
        "df_ayush.createOrReplaceTempView(\"california_housing\")\n"
      ],
      "metadata": {
        "id": "H33w5RTK7LFU"
      },
      "execution_count": null,
      "outputs": []
    },
    {
      "cell_type": "code",
      "source": [
        "df_ayush.createOrReplaceTempView(\"california_housing\")"
      ],
      "metadata": {
        "id": "Pi6uEYQE7OsU"
      },
      "execution_count": null,
      "outputs": []
    },
    {
      "cell_type": "code",
      "source": [
        "result1_ayush = spark.sql(\"\"\"\n",
        "    SELECT median_income, AVG(median_house_value) as avg_house_value\n",
        "    FROM california_housing\n",
        "    GROUP BY median_income\n",
        "    ORDER BY median_income\n",
        "\"\"\")"
      ],
      "metadata": {
        "id": "962prvq37Oy1"
      },
      "execution_count": null,
      "outputs": []
    },
    {
      "cell_type": "code",
      "source": [
        "result1_ayush.show()"
      ],
      "metadata": {
        "colab": {
          "base_uri": "https://localhost:8080/"
        },
        "id": "FPsBiCPm8QUV",
        "outputId": "9904d0a8-9454-4a12-d40c-05a7295fc89a"
      },
      "execution_count": null,
      "outputs": [
        {
          "output_type": "stream",
          "name": "stdout",
          "text": [
            "+-------------+------------------+\n",
            "|median_income|   avg_house_value|\n",
            "+-------------+------------------+\n",
            "|       0.4999|133027.36363636365|\n",
            "|        0.536| 163571.2857142857|\n",
            "|       0.6433|          111300.0|\n",
            "|       0.6775|          350000.0|\n",
            "|       0.6825|          187500.0|\n",
            "|       0.6831|           87500.0|\n",
            "|        0.696|           42500.0|\n",
            "|       0.6991|           89500.0|\n",
            "|       0.7007|          134400.0|\n",
            "|       0.7025|          500001.0|\n",
            "|       0.7068|          200000.0|\n",
            "|       0.7069|           70300.0|\n",
            "|       0.7075|           78800.0|\n",
            "|        0.716|          104200.0|\n",
            "|       0.7286|           95200.0|\n",
            "|       0.7445|          112500.0|\n",
            "|       0.7473|          168800.0|\n",
            "|       0.7526|          162500.0|\n",
            "|       0.7591|          350000.0|\n",
            "|         0.76|          162500.0|\n",
            "+-------------+------------------+\n",
            "only showing top 20 rows\n",
            "\n"
          ]
        }
      ]
    },
    {
      "cell_type": "code",
      "source": [
        "result2_ayush = spark.sql(\"\"\"\n",
        "    SELECT longitude, latitude, MAX(median_house_value) as max_house_value,\n",
        "           MIN(median_house_value) as min_house_value\n",
        "    FROM california_housing\n",
        "    GROUP BY longitude, latitude\n",
        "    ORDER BY max_house_value DESC\n",
        "    LIMIT 10\n",
        "\"\"\")"
      ],
      "metadata": {
        "id": "5r2h_Iis8VN8"
      },
      "execution_count": null,
      "outputs": []
    },
    {
      "cell_type": "code",
      "source": [
        "result2_ayush.show()"
      ],
      "metadata": {
        "colab": {
          "base_uri": "https://localhost:8080/"
        },
        "id": "OEVBmB7g8sWU",
        "outputId": "e5d4403f-d0bb-4b5d-ee8c-98602c0d307d"
      },
      "execution_count": null,
      "outputs": [
        {
          "output_type": "stream",
          "name": "stdout",
          "text": [
            "+---------+--------+---------------+---------------+\n",
            "|longitude|latitude|max_house_value|min_house_value|\n",
            "+---------+--------+---------------+---------------+\n",
            "|  -119.23|   34.19|       500001.0|       500001.0|\n",
            "|   -118.4|   34.13|       500001.0|       500001.0|\n",
            "|  -118.12|   33.76|       500001.0|       461500.0|\n",
            "|  -118.07|   33.72|       500001.0|       485000.0|\n",
            "|  -118.43|   34.02|       500001.0|       500001.0|\n",
            "|  -117.31|   32.82|       500001.0|       500001.0|\n",
            "|  -118.57|   34.27|       500001.0|       500001.0|\n",
            "|  -118.48|   33.96|       500001.0|       500001.0|\n",
            "|  -122.06|    37.3|       500001.0|       500001.0|\n",
            "|  -118.13|   33.79|       500001.0|       234800.0|\n",
            "+---------+--------+---------------+---------------+\n",
            "\n"
          ]
        }
      ]
    },
    {
      "cell_type": "code",
      "source": [
        "result3_ayush = spark.sql(\"\"\"\n",
        "    SELECT AVG(median_house_value) as avg_old_house_value\n",
        "    FROM california_housing\n",
        "    WHERE housing_median_age > 50\n",
        "\"\"\")"
      ],
      "metadata": {
        "id": "z_dVdIWV8wR0"
      },
      "execution_count": null,
      "outputs": []
    },
    {
      "cell_type": "code",
      "source": [
        "result3_ayush.show()"
      ],
      "metadata": {
        "colab": {
          "base_uri": "https://localhost:8080/"
        },
        "id": "PJqJv-m986Jr",
        "outputId": "c572a0d4-047c-4fe2-d42a-1a3a265c0fb7"
      },
      "execution_count": null,
      "outputs": [
        {
          "output_type": "stream",
          "name": "stdout",
          "text": [
            "+-------------------+\n",
            "|avg_old_house_value|\n",
            "+-------------------+\n",
            "|  276408.2573800738|\n",
            "+-------------------+\n",
            "\n"
          ]
        }
      ]
    },
    {
      "cell_type": "code",
      "source": [
        "spark.stop()"
      ],
      "metadata": {
        "id": "Jge9PhPW89Or"
      },
      "execution_count": null,
      "outputs": []
    },
    {
      "cell_type": "code",
      "source": [
        "from pyspark.sql import SparkSession"
      ],
      "metadata": {
        "id": "8HOg-_mn9D9D"
      },
      "execution_count": null,
      "outputs": []
    },
    {
      "cell_type": "code",
      "source": [
        "spark = SparkSession.builder.appName(\"California Housing Analysis Advance\").getOrCreate()"
      ],
      "metadata": {
        "id": "OBZaT9hV9G6L"
      },
      "execution_count": null,
      "outputs": []
    },
    {
      "cell_type": "code",
      "source": [
        "df_ayush = spark.read.csv(\"sample_data/california_housing_train.csv\", header=True, inferSchema=True)\n",
        "df_ayush"
      ],
      "metadata": {
        "colab": {
          "base_uri": "https://localhost:8080/"
        },
        "id": "kFSnAczk9PJ0",
        "outputId": "1da66d00-f6b4-400b-b089-f2b044c33ad8"
      },
      "execution_count": null,
      "outputs": [
        {
          "output_type": "execute_result",
          "data": {
            "text/plain": [
              "DataFrame[longitude: double, latitude: double, housing_median_age: double, total_rooms: double, total_bedrooms: double, population: double, households: double, median_income: double, median_house_value: double]"
            ]
          },
          "metadata": {},
          "execution_count": 17
        }
      ]
    },
    {
      "cell_type": "code",
      "source": [
        "df_ayush.createOrReplaceTempView(\"california_housing\")"
      ],
      "metadata": {
        "id": "7RmrKdAx9ZRE"
      },
      "execution_count": null,
      "outputs": []
    },
    {
      "cell_type": "code",
      "source": [
        "result1_ayush = spark.sql(\"\"\"\n",
        "    SELECT CASE\n",
        "               WHEN longitude < -122 THEN 'Near Ocean'\n",
        "               ELSE 'Far from Ocean'\n",
        "           END as proximity_to_ocean,\n",
        "           AVG(median_house_value) as avg_house_value\n",
        "    FROM california_housing\n",
        "    GROUP BY proximity_to_ocean\n",
        "\"\"\")"
      ],
      "metadata": {
        "id": "iWklHbkl9gXU"
      },
      "execution_count": null,
      "outputs": []
    },
    {
      "cell_type": "code",
      "source": [
        "result1_ayush.show()"
      ],
      "metadata": {
        "colab": {
          "base_uri": "https://localhost:8080/"
        },
        "id": "6Fou_uMh9tj0",
        "outputId": "dec47ab7-b1e0-4e5e-d03e-d34d824801ad"
      },
      "execution_count": null,
      "outputs": [
        {
          "output_type": "stream",
          "name": "stdout",
          "text": [
            "+------------------+------------------+\n",
            "|proximity_to_ocean|   avg_house_value|\n",
            "+------------------+------------------+\n",
            "|        Near Ocean|  245589.432132964|\n",
            "|    Far from Ocean|198254.34113882628|\n",
            "+------------------+------------------+\n",
            "\n"
          ]
        }
      ]
    },
    {
      "cell_type": "code",
      "source": [
        "result2_ayush= spark.sql(\"\"\"\n",
        "    SELECT housing_median_age,\n",
        "           AVG(total_rooms) as avg_rooms\n",
        "    FROM california_housing\n",
        "    GROUP BY housing_median_age\n",
        "    ORDER BY housing_median_age\n",
        "\"\"\")"
      ],
      "metadata": {
        "id": "4AX1cSyq9yDE"
      },
      "execution_count": null,
      "outputs": []
    },
    {
      "cell_type": "code",
      "source": [
        "result2_ayush.show()"
      ],
      "metadata": {
        "colab": {
          "base_uri": "https://localhost:8080/"
        },
        "id": "SsUiFYfo92BE",
        "outputId": "fd96c185-22b7-4f8b-9109-7af0b18d290d"
      },
      "execution_count": null,
      "outputs": [
        {
          "output_type": "stream",
          "name": "stdout",
          "text": [
            "+------------------+------------------+\n",
            "|housing_median_age|         avg_rooms|\n",
            "+------------------+------------------+\n",
            "|               1.0|            2158.0|\n",
            "|               2.0| 5237.102040816327|\n",
            "|               3.0| 6920.326086956522|\n",
            "|               4.0| 6065.614906832298|\n",
            "|               5.0| 4926.261306532663|\n",
            "|               6.0| 4365.062015503876|\n",
            "|               7.0| 5672.907284768212|\n",
            "|               8.0|4076.7865168539324|\n",
            "|               9.0|3813.4651162790697|\n",
            "|              10.0|3518.4823008849557|\n",
            "|              11.0| 3971.105769230769|\n",
            "|              12.0| 4216.661458333333|\n",
            "|              13.0|3692.5060240963853|\n",
            "|              14.0| 3720.348703170029|\n",
            "|              15.0|3283.3173076923076|\n",
            "|              16.0| 3047.636220472441|\n",
            "|              17.0|3133.9670138888887|\n",
            "|              18.0|3098.4435146443516|\n",
            "|              19.0| 3005.140776699029|\n",
            "|              20.0|2852.3342036553527|\n",
            "+------------------+------------------+\n",
            "only showing top 20 rows\n",
            "\n"
          ]
        }
      ]
    },
    {
      "cell_type": "code",
      "source": [
        "result3_ayush = spark.sql(\"\"\"\n",
        "    SELECT longitude, latitude, median_income\n",
        "    FROM california_housing\n",
        "    ORDER BY median_income DESC\n",
        "    LIMIT 10\n",
        "\"\"\")"
      ],
      "metadata": {
        "id": "upfOe1PM95vT"
      },
      "execution_count": null,
      "outputs": []
    },
    {
      "cell_type": "code",
      "source": [
        "result3_ayush.show()"
      ],
      "metadata": {
        "colab": {
          "base_uri": "https://localhost:8080/"
        },
        "id": "O6pzI7qy9-YL",
        "outputId": "172b525d-f07b-4828-b229-bf73ff3b427c"
      },
      "execution_count": null,
      "outputs": [
        {
          "output_type": "stream",
          "name": "stdout",
          "text": [
            "+---------+--------+-------------+\n",
            "|longitude|latitude|median_income|\n",
            "+---------+--------+-------------+\n",
            "|  -118.04|   34.13|      15.0001|\n",
            "|  -118.34|   34.08|      15.0001|\n",
            "|  -118.06|   33.72|      15.0001|\n",
            "|  -118.19|   34.19|      15.0001|\n",
            "|  -118.33|   34.06|      15.0001|\n",
            "|  -118.32|   34.06|      15.0001|\n",
            "|  -117.23|   32.99|      15.0001|\n",
            "|  -118.33|   34.07|      15.0001|\n",
            "|  -118.18|   34.19|      15.0001|\n",
            "|  -118.12|   34.12|      15.0001|\n",
            "+---------+--------+-------------+\n",
            "\n"
          ]
        }
      ]
    },
    {
      "cell_type": "code",
      "source": [
        "result4_ayush = spark.sql(\"\"\"\n",
        "    SELECT POPULATION, median_house_value\n",
        "    FROM california_housing\n",
        "\"\"\")\n",
        "result4_ayush.corr(\"population\", \"median_house_value\")"
      ],
      "metadata": {
        "colab": {
          "base_uri": "https://localhost:8080/"
        },
        "id": "XjwSgsIk-EXD",
        "outputId": "9ffff4c6-e362-4a63-80a3-bea03d0c50f7"
      },
      "execution_count": null,
      "outputs": [
        {
          "output_type": "execute_result",
          "data": {
            "text/plain": [
              "-0.02785006112089839"
            ]
          },
          "metadata": {},
          "execution_count": 25
        }
      ]
    },
    {
      "cell_type": "code",
      "source": [
        "result5_ayush= spark.sql(\"\"\"\n",
        "    SELECT CASE\n",
        "               WHEN median_income < 2.5 THEN 'Low Income'\n",
        "               WHEN median_income BETWEEN 2.5 AND 4.5 THEN 'Medium Income'\n",
        "               ELSE 'High Income'\n",
        "           END as income_level,\n",
        "           AVG(median_house_value) as avg_house_value\n",
        "    FROM california_housing\n",
        "    GROUP BY income_level\n",
        "\"\"\")"
      ],
      "metadata": {
        "id": "XyJdLboR-EY7"
      },
      "execution_count": null,
      "outputs": []
    },
    {
      "cell_type": "code",
      "source": [
        "result5_ayush.show()"
      ],
      "metadata": {
        "colab": {
          "base_uri": "https://localhost:8080/"
        },
        "id": "GRDmqcqP-MwL",
        "outputId": "917de64e-49b1-4cbb-a8f8-134abfe858ad"
      },
      "execution_count": null,
      "outputs": [
        {
          "output_type": "stream",
          "name": "stdout",
          "text": [
            "+-------------+------------------+\n",
            "| income_level|   avg_house_value|\n",
            "+-------------+------------------+\n",
            "|  High Income| 306535.0667466027|\n",
            "|   Low Income|120705.26480304956|\n",
            "|Medium Income|187971.56916015383|\n",
            "+-------------+------------------+\n",
            "\n"
          ]
        }
      ]
    },
    {
      "cell_type": "code",
      "source": [
        "result6_ayush = spark.sql(\"\"\"\n",
        "    SELECT CASE\n",
        "               WHEN housing_median_age < 20 THEN 'New'\n",
        "               WHEN housing_median_age BETWEEN 20 AND 40 THEN 'Middle-aged'\n",
        "               ELSE 'Old'\n",
        "           END as age_group,\n",
        "           COUNT(*) as house_count\n",
        "    FROM california_housing\n",
        "    GROUP BY age_group\n",
        "    ORDER BY house_count DESC\n",
        "\"\"\")"
      ],
      "metadata": {
        "id": "vShIxl7A-Szk"
      },
      "execution_count": null,
      "outputs": []
    },
    {
      "cell_type": "code",
      "source": [
        "result6_ayush.show()"
      ],
      "metadata": {
        "colab": {
          "base_uri": "https://localhost:8080/"
        },
        "id": "miv4oFi_-S-U",
        "outputId": "57e41cd8-f8f6-4591-c66a-cd40d7841ce3"
      },
      "execution_count": null,
      "outputs": [
        {
          "output_type": "stream",
          "name": "stdout",
          "text": [
            "+-----------+-----------+\n",
            "|  age_group|house_count|\n",
            "+-----------+-----------+\n",
            "|Middle-aged|       9004|\n",
            "|        New|       4826|\n",
            "|        Old|       3170|\n",
            "+-----------+-----------+\n",
            "\n"
          ]
        }
      ]
    },
    {
      "cell_type": "code",
      "source": [
        "result7_ayush = spark.sql(\"\"\"\n",
        "    SELECT AVG(total_bedrooms / households) as avg_bedrooms_per_house\n",
        "    FROM california_housing\n",
        "\"\"\")"
      ],
      "metadata": {
        "id": "tmGqsFvM-cgs"
      },
      "execution_count": null,
      "outputs": []
    },
    {
      "cell_type": "code",
      "source": [
        "result7_ayush.show()"
      ],
      "metadata": {
        "colab": {
          "base_uri": "https://localhost:8080/"
        },
        "id": "vFzY_5Oh-hJD",
        "outputId": "937b0d37-5c8d-49d4-fd2e-16e9cc655d07"
      },
      "execution_count": null,
      "outputs": [
        {
          "output_type": "stream",
          "name": "stdout",
          "text": [
            "+----------------------+\n",
            "|avg_bedrooms_per_house|\n",
            "+----------------------+\n",
            "|    1.0972809315785848|\n",
            "+----------------------+\n",
            "\n"
          ]
        }
      ]
    },
    {
      "cell_type": "code",
      "source": [
        "result8_ayush = spark.sql(\"\"\"\n",
        "    SELECT latitude, longitude,\n",
        "           PERCENTILE_APPROX(median_house_value, 0.5) as median_value\n",
        "    FROM california_housing\n",
        "    GROUP BY latitude, longitude\n",
        "    ORDER BY median_value DESC\n",
        "    LIMIT 10\n",
        "\"\"\")"
      ],
      "metadata": {
        "id": "6tQEhqzw-kw8"
      },
      "execution_count": null,
      "outputs": []
    },
    {
      "cell_type": "code",
      "source": [
        "result8_ayush.show()"
      ],
      "metadata": {
        "colab": {
          "base_uri": "https://localhost:8080/"
        },
        "id": "R3lacMnX-ocE",
        "outputId": "9d2c5145-18cf-4f40-fcbf-d9a2272b84a5"
      },
      "execution_count": null,
      "outputs": [
        {
          "output_type": "stream",
          "name": "stdout",
          "text": [
            "+--------+---------+------------+\n",
            "|latitude|longitude|median_value|\n",
            "+--------+---------+------------+\n",
            "|   32.95|  -117.26|    500001.0|\n",
            "|   32.83|  -117.26|    500001.0|\n",
            "|   32.83|  -117.31|    500001.0|\n",
            "|   32.84|  -117.27|    500001.0|\n",
            "|   32.76|  -117.19|    500001.0|\n",
            "|   32.84|  -117.25|    500001.0|\n",
            "|   32.72|  -117.23|    500001.0|\n",
            "|   32.85|  -117.26|    500001.0|\n",
            "|   32.81|  -117.29|    500001.0|\n",
            "|   32.85|  -117.24|    500001.0|\n",
            "+--------+---------+------------+\n",
            "\n"
          ]
        }
      ]
    },
    {
      "cell_type": "code",
      "source": [
        "result9_ayush = spark.sql(\"\"\"\n",
        "    SELECT COUNT(*) as large_households\n",
        "    FROM california_housing\n",
        "    WHERE population / households > 4\n",
        "\"\"\")"
      ],
      "metadata": {
        "id": "RYE2mmX__i3M"
      },
      "execution_count": null,
      "outputs": []
    },
    {
      "cell_type": "code",
      "source": [
        "result9_ayush.show()"
      ],
      "metadata": {
        "colab": {
          "base_uri": "https://localhost:8080/"
        },
        "id": "MBl24YQU_m0M",
        "outputId": "56e8414c-3cb5-43f3-e603-421305640844"
      },
      "execution_count": null,
      "outputs": [
        {
          "output_type": "stream",
          "name": "stdout",
          "text": [
            "+----------------+\n",
            "|large_households|\n",
            "+----------------+\n",
            "|            1437|\n",
            "+----------------+\n",
            "\n"
          ]
        }
      ]
    },
    {
      "cell_type": "code",
      "source": [
        "result10_ayush = spark.sql(\"\"\"\n",
        "    SELECT latitude, longitude, (total_rooms / housing_median_age) as rooms_density\n",
        "    FROM california_housing\n",
        "    ORDER BY rooms_density DESC\n",
        "    LIMIT 10\n",
        "\"\"\")"
      ],
      "metadata": {
        "id": "9Fq41yFR_m-D"
      },
      "execution_count": null,
      "outputs": []
    },
    {
      "cell_type": "code",
      "source": [
        "result10_ayush.show()"
      ],
      "metadata": {
        "colab": {
          "base_uri": "https://localhost:8080/"
        },
        "id": "DqjbGBsH_rEj",
        "outputId": "26c33a6e-87d4-4362-acd9-5cde8781eaf9"
      },
      "execution_count": null,
      "outputs": [
        {
          "output_type": "stream",
          "name": "stdout",
          "text": [
            "+--------+---------+-----------------+\n",
            "|latitude|longitude|    rooms_density|\n",
            "+--------+---------+-----------------+\n",
            "|   38.72|  -121.35|          10948.5|\n",
            "|   33.57|  -117.16|          10195.5|\n",
            "|   33.89|  -117.74|          9484.25|\n",
            "|   33.89|  -117.52|           8989.0|\n",
            "|   33.52|  -117.12|          7600.25|\n",
            "|    33.9|  -117.19|           7020.0|\n",
            "|   38.77|  -121.33|           6738.0|\n",
            "|    33.9|  -117.33|           6418.5|\n",
            "|   38.66|  -121.13|           6180.0|\n",
            "|   33.97|  -117.21|6118.666666666667|\n",
            "+--------+---------+-----------------+\n",
            "\n"
          ]
        }
      ]
    },
    {
      "cell_type": "code",
      "source": [
        "spark.stop()"
      ],
      "metadata": {
        "id": "7CEIW3Do_t5L"
      },
      "execution_count": null,
      "outputs": []
    },
    {
      "cell_type": "code",
      "source": [],
      "metadata": {
        "id": "lfVltCmQJX-x"
      },
      "execution_count": null,
      "outputs": []
    }
  ]
}