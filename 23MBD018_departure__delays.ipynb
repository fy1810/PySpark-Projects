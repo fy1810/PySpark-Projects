{
  "nbformat": 4,
  "nbformat_minor": 0,
  "metadata": {
    "colab": {
      "provenance": []
    },
    "kernelspec": {
      "name": "python3",
      "display_name": "Python 3"
    },
    "language_info": {
      "name": "python"
    }
  },
  "cells": [
    {
      "cell_type": "code",
      "execution_count": null,
      "metadata": {
        "colab": {
          "base_uri": "https://localhost:8080/"
        },
        "id": "g5EchU-6tPwo",
        "outputId": "760ddb9a-2159-48f9-cbd6-dda554d45365"
      },
      "outputs": [
        {
          "output_type": "stream",
          "name": "stdout",
          "text": [
            "Requirement already satisfied: pyspark in /usr/local/lib/python3.10/dist-packages (3.5.2)\n",
            "Requirement already satisfied: py4j==0.10.9.7 in /usr/local/lib/python3.10/dist-packages (from pyspark) (0.10.9.7)\n"
          ]
        }
      ],
      "source": [
        "pip install pyspark"
      ]
    },
    {
      "cell_type": "code",
      "source": [
        "from pyspark.sql import SparkSession\n",
        "from pyspark.sql.functions import col, sum, avg, count\n"
      ],
      "metadata": {
        "id": "Cbw5nC-Dt0B7"
      },
      "execution_count": null,
      "outputs": []
    },
    {
      "cell_type": "code",
      "source": [
        "spark = SparkSession.builder \\\n",
        "    .appName(\"Flights Analysis\") \\\n",
        "    .getOrCreate()\n",
        "\n",
        "flights = spark.read.format(\"csv\") \\\n",
        ".option(\"header\", \"true\") \\\n",
        "    .option(\"inferSchema\", \"true\") \\\n",
        "    .load(\"/content/departuredelays.csv\")"
      ],
      "metadata": {
        "id": "LIGy5cs0t2yy"
      },
      "execution_count": null,
      "outputs": []
    },
    {
      "cell_type": "code",
      "source": [
        "flights.createOrReplaceTempView(\"flights_ayush\")"
      ],
      "metadata": {
        "id": "chAzlGAduDG5"
      },
      "execution_count": null,
      "outputs": []
    },
    {
      "cell_type": "code",
      "source": [
        "avg_delay_by_origin_ayush= spark.sql(\"\"\"\n",
        "    SELECT origin, AVG(delay) as avg_delay\n",
        "    FROM flights_ayush\n",
        "    GROUP BY origin\n",
        "    ORDER BY avg_delay DESC\n",
        "    LIMIT 10\n",
        "\"\"\")\n"
      ],
      "metadata": {
        "id": "v-deoCoKuDJh"
      },
      "execution_count": null,
      "outputs": []
    },
    {
      "cell_type": "code",
      "source": [
        "avg_delay_by_origin_ayush.show()"
      ],
      "metadata": {
        "colab": {
          "base_uri": "https://localhost:8080/"
        },
        "id": "b6oSjP8quI5n",
        "outputId": "42b893e8-871c-4b3d-fbc0-9cba8004bfca"
      },
      "execution_count": null,
      "outputs": [
        {
          "output_type": "stream",
          "name": "stdout",
          "text": [
            "+------+------------------+\n",
            "|origin|         avg_delay|\n",
            "+------+------------------+\n",
            "|   GUM|28.610169491525422|\n",
            "|   MQT|26.215686274509803|\n",
            "|   SCE| 24.98095238095238|\n",
            "|   LSE|23.630434782608695|\n",
            "|   GUC| 23.28082191780822|\n",
            "|   MDW| 22.62344751206392|\n",
            "|   ORD|22.000290472501938|\n",
            "|   EGE|21.743859649122808|\n",
            "|   JFK|21.680050188205772|\n",
            "|   LNK| 20.75072463768116|\n",
            "+------+------------------+\n",
            "\n"
          ]
        }
      ]
    },
    {
      "cell_type": "code",
      "source": [
        "flights_by_day_ayush = spark.sql(\"\"\"\n",
        "    SELECT\n",
        "        date,\n",
        "        COUNT(*) as total_flights,\n",
        "        AVG(delay) as avg_delay\n",
        "    FROM flights_ayush\n",
        "    GROUP BY date\n",
        "    ORDER BY date\n",
        "    LIMIT 7\n",
        "\"\"\")\n"
      ],
      "metadata": {
        "id": "1rUBOIiuuI7_"
      },
      "execution_count": null,
      "outputs": []
    },
    {
      "cell_type": "code",
      "source": [
        "flights_by_day_ayush.collect()"
      ],
      "metadata": {
        "colab": {
          "base_uri": "https://localhost:8080/"
        },
        "id": "EBu1N5P6uMM3",
        "outputId": "fa0501bf-de74-4e73-fb2d-bdf728db8184"
      },
      "execution_count": null,
      "outputs": [
        {
          "output_type": "execute_result",
          "data": {
            "text/plain": [
              "[Row(date=1010005, total_flights=1, avg_delay=-8.0),\n",
              " Row(date=1010010, total_flights=1, avg_delay=-6.0),\n",
              " Row(date=1010020, total_flights=2, avg_delay=-1.0),\n",
              " Row(date=1010023, total_flights=1, avg_delay=14.0),\n",
              " Row(date=1010025, total_flights=2, avg_delay=15.0),\n",
              " Row(date=1010029, total_flights=1, avg_delay=49.0),\n",
              " Row(date=1010030, total_flights=3, avg_delay=-5.666666666666667)]"
            ]
          },
          "metadata": {},
          "execution_count": 8
        }
      ]
    },
    {
      "cell_type": "code",
      "source": [
        "flights_by_day_ayush.show()"
      ],
      "metadata": {
        "colab": {
          "base_uri": "https://localhost:8080/"
        },
        "id": "B8qIE8T4uP5I",
        "outputId": "05ba1332-9dc4-45fc-a1c2-60d1f04bd7eb"
      },
      "execution_count": null,
      "outputs": [
        {
          "output_type": "stream",
          "name": "stdout",
          "text": [
            "+-------+-------------+------------------+\n",
            "|   date|total_flights|         avg_delay|\n",
            "+-------+-------------+------------------+\n",
            "|1010005|            1|              -8.0|\n",
            "|1010010|            1|              -6.0|\n",
            "|1010020|            2|              -1.0|\n",
            "|1010023|            1|              14.0|\n",
            "|1010025|            2|              15.0|\n",
            "|1010029|            1|              49.0|\n",
            "|1010030|            3|-5.666666666666667|\n",
            "+-------+-------------+------------------+\n",
            "\n"
          ]
        }
      ]
    },
    {
      "cell_type": "code",
      "source": [
        "top_delayed_routes_ayush = spark.sql(\"\"\"\n",
        "    SELECT\n",
        "        origin,\n",
        "        destination,\n",
        "        SUM(delay) as total_delay,\n",
        "        COUNT(*) as flight_count\n",
        "    FROM flights_ayush\n",
        "    GROUP BY origin, destination\n",
        "    ORDER BY total_delay DESC\n",
        "    LIMIT 5\n",
        "\"\"\")"
      ],
      "metadata": {
        "id": "8bydnyeBuR1v"
      },
      "execution_count": null,
      "outputs": []
    },
    {
      "cell_type": "code",
      "source": [
        "top_delayed_routes_ayush.show()"
      ],
      "metadata": {
        "colab": {
          "base_uri": "https://localhost:8080/"
        },
        "id": "UUa48XrDu2t6",
        "outputId": "b7e4d576-d694-49df-8af6-d50b20a66e59"
      },
      "execution_count": null,
      "outputs": [
        {
          "output_type": "stream",
          "name": "stdout",
          "text": [
            "+------+-----------+-----------+------------+\n",
            "|origin|destination|total_delay|flight_count|\n",
            "+------+-----------+-----------+------------+\n",
            "|   LAX|        SFO|      40378|        2093|\n",
            "|   ATL|        LGA|      34913|        2501|\n",
            "|   DEN|        LAX|      33479|        1890|\n",
            "|   SFO|        LAX|      31992|        2120|\n",
            "|   ORD|        SFO|      30658|        1112|\n",
            "+------+-----------+-----------+------------+\n",
            "\n"
          ]
        }
      ]
    },
    {
      "cell_type": "code",
      "source": [
        "avg_delay_by_origin_ayush.show()"
      ],
      "metadata": {
        "colab": {
          "base_uri": "https://localhost:8080/"
        },
        "id": "JFv0P1C5u8aK",
        "outputId": "f148696e-34cb-4df3-bd0d-1b8bd1c9f31e"
      },
      "execution_count": null,
      "outputs": [
        {
          "output_type": "stream",
          "name": "stdout",
          "text": [
            "+------+------------------+\n",
            "|origin|         avg_delay|\n",
            "+------+------------------+\n",
            "|   GUM|28.610169491525422|\n",
            "|   MQT|26.215686274509803|\n",
            "|   SCE| 24.98095238095238|\n",
            "|   LSE|23.630434782608695|\n",
            "|   GUC| 23.28082191780822|\n",
            "|   MDW| 22.62344751206392|\n",
            "|   ORD|22.000290472501938|\n",
            "|   EGE|21.743859649122808|\n",
            "|   JFK|21.680050188205772|\n",
            "|   LNK| 20.75072463768116|\n",
            "+------+------------------+\n",
            "\n"
          ]
        }
      ]
    },
    {
      "cell_type": "code",
      "source": [
        "flights_by_day_ayush.show()"
      ],
      "metadata": {
        "colab": {
          "base_uri": "https://localhost:8080/"
        },
        "id": "uxayu6dQvaSq",
        "outputId": "011e57fe-c28e-4c62-be19-0884cdbf70c6"
      },
      "execution_count": null,
      "outputs": [
        {
          "output_type": "stream",
          "name": "stdout",
          "text": [
            "+-------+-------------+------------------+\n",
            "|   date|total_flights|         avg_delay|\n",
            "+-------+-------------+------------------+\n",
            "|1010005|            1|              -8.0|\n",
            "|1010010|            1|              -6.0|\n",
            "|1010020|            2|              -1.0|\n",
            "|1010023|            1|              14.0|\n",
            "|1010025|            2|              15.0|\n",
            "|1010029|            1|              49.0|\n",
            "|1010030|            3|-5.666666666666667|\n",
            "+-------+-------------+------------------+\n",
            "\n"
          ]
        }
      ]
    },
    {
      "cell_type": "code",
      "source": [
        "top_delayed_routes_ayush.show()"
      ],
      "metadata": {
        "colab": {
          "base_uri": "https://localhost:8080/"
        },
        "id": "x_QHfG3EvdTx",
        "outputId": "24e9ecf8-06bb-4670-e832-b23a3ddc04c3"
      },
      "execution_count": null,
      "outputs": [
        {
          "output_type": "stream",
          "name": "stdout",
          "text": [
            "+------+-----------+-----------+------------+\n",
            "|origin|destination|total_delay|flight_count|\n",
            "+------+-----------+-----------+------------+\n",
            "|   LAX|        SFO|      40378|        2093|\n",
            "|   ATL|        LGA|      34913|        2501|\n",
            "|   DEN|        LAX|      33479|        1890|\n",
            "|   SFO|        LAX|      31992|        2120|\n",
            "|   ORD|        SFO|      30658|        1112|\n",
            "+------+-----------+-----------+------------+\n",
            "\n"
          ]
        }
      ]
    },
    {
      "cell_type": "code",
      "source": [
        "spark.stop()"
      ],
      "metadata": {
        "id": "033GPwJmv4UJ"
      },
      "execution_count": null,
      "outputs": []
    },
    {
      "cell_type": "code",
      "source": [
        "from pyspark.sql import SparkSession\n",
        "from pyspark.sql.functions import col, sum, avg, count, hour, month"
      ],
      "metadata": {
        "id": "7zgb6kaAv9D6"
      },
      "execution_count": null,
      "outputs": []
    },
    {
      "cell_type": "code",
      "source": [
        "spark = SparkSession.builder \\\n",
        "    .appName(\"Extended Flights Analysis\") \\\n",
        "    .getOrCreate()"
      ],
      "metadata": {
        "id": "kMNv1Ro_wIEY"
      },
      "execution_count": null,
      "outputs": []
    },
    {
      "cell_type": "code",
      "source": [
        "flights = spark.read.format(\"csv\") \\\n",
        "    .option(\"header\", \"true\") \\\n",
        "    .option(\"inferSchema\", \"true\") \\\n",
        "    .load(\"/content/departuredelays.csv\")"
      ],
      "metadata": {
        "id": "DXG8fr19wKDB"
      },
      "execution_count": null,
      "outputs": []
    },
    {
      "cell_type": "code",
      "source": [
        "flights.createOrReplaceTempView(\"flights_ayush\")"
      ],
      "metadata": {
        "id": "Ne73rY40wOKl"
      },
      "execution_count": null,
      "outputs": []
    },
    {
      "cell_type": "code",
      "source": [
        "avg_delay_by_origin_ayush = spark.sql(\"\"\"\n",
        "    SELECT origin, AVG(delay) as avg_delay\n",
        "    FROM flights_ayush\n",
        "    GROUP BY origin\n",
        "    ORDER BY avg_delay DESC\n",
        "    LIMIT 10\n",
        "\"\"\")"
      ],
      "metadata": {
        "id": "eSvitgoEwW9U"
      },
      "execution_count": null,
      "outputs": []
    },
    {
      "cell_type": "code",
      "source": [
        "busiest_routes_ayush=spark.sql(\"\"\"\n",
        "\n",
        "SELECT\n",
        "origin,\n",
        "destination,\n",
        "COUNT(*) as flight_count\n",
        "FROM flights_ayush\n",
        "GROUP BY origin, destination\n",
        "ORDER BY flight_count DESC\n",
        "LIMIT 5\n",
        "\"\"\")"
      ],
      "metadata": {
        "id": "Nc2AgWVpwa04"
      },
      "execution_count": null,
      "outputs": []
    },
    {
      "cell_type": "code",
      "source": [
        "monthly_trends_ayush = spark.sql(\"\"\"\n",
        "    SELECT\n",
        "        SUBSTRING(CAST(date AS STRING), 5, 2) as month,\n",
        "        COUNT(*) as total_flights,\n",
        "        AVG(delay) as avg_delay\n",
        "    FROM flights_ayush\n",
        "    GROUP BY SUBSTRING(CAST(date AS STRING), 5, 2)\n",
        "    ORDER BY month\n",
        "\"\"\")"
      ],
      "metadata": {
        "id": "GzODe4d8wenI"
      },
      "execution_count": null,
      "outputs": []
    },
    {
      "cell_type": "code",
      "source": [
        "delayed_percentage_ayush = spark.sql(\"\"\"\n",
        "    SELECT\n",
        "        origin,\n",
        "        COUNT(*) as total_flights,\n",
        "        SUM(CASE WHEN delay > 0 THEN 1 ELSE 0 END) as delayed_flights,\n",
        "        (SUM(CASE WHEN delay > 0 THEN 1 ELSE 0 END) * 100.0 / COUNT(*)) as delayed_percentage\n",
        "    FROM flights_ayush\n",
        "    GROUP BY origin\n",
        "    ORDER BY delayed_percentage DESC\n",
        "    LIMIT 10\n",
        "\"\"\")\n"
      ],
      "metadata": {
        "id": "BZSXa-cBwg0x"
      },
      "execution_count": null,
      "outputs": []
    },
    {
      "cell_type": "code",
      "source": [
        "delay_by_hour_ayush = spark.sql(\"\"\"\n",
        "    SELECT\n",
        "        CAST(SUBSTRING(CAST(date AS STRING), 10, 2) AS INT) as hour,\n",
        "        AVG(delay) as avg_delay\n",
        "    FROM flights_ayush\n",
        "    GROUP BY SUBSTRING(CAST(date AS STRING), 10, 2)\n",
        "    ORDER BY hour\n",
        "\"\"\")"
      ],
      "metadata": {
        "id": "C3tdMRdSwjwR"
      },
      "execution_count": null,
      "outputs": []
    },
    {
      "cell_type": "code",
      "source": [
        "avg_delay_by_origin_ayush.show()"
      ],
      "metadata": {
        "colab": {
          "base_uri": "https://localhost:8080/"
        },
        "id": "zxm_GFU9wqCV",
        "outputId": "5e615299-b01e-45ef-abf2-c5402529d61e"
      },
      "execution_count": null,
      "outputs": [
        {
          "output_type": "stream",
          "name": "stdout",
          "text": [
            "+------+------------------+\n",
            "|origin|         avg_delay|\n",
            "+------+------------------+\n",
            "|   GUM|28.610169491525422|\n",
            "|   MQT|26.215686274509803|\n",
            "|   SCE| 24.98095238095238|\n",
            "|   LSE|23.630434782608695|\n",
            "|   GUC| 23.28082191780822|\n",
            "|   MDW| 22.62344751206392|\n",
            "|   ORD|22.000290472501938|\n",
            "|   EGE|21.743859649122808|\n",
            "|   JFK|21.680050188205772|\n",
            "|   LNK| 20.75072463768116|\n",
            "+------+------------------+\n",
            "\n"
          ]
        }
      ]
    },
    {
      "cell_type": "code",
      "source": [
        "busiest_routes_ayush.show()"
      ],
      "metadata": {
        "colab": {
          "base_uri": "https://localhost:8080/"
        },
        "id": "Si4sqeoRwtXt",
        "outputId": "008187c1-141c-4064-cbb3-9a023342dac7"
      },
      "execution_count": null,
      "outputs": [
        {
          "output_type": "stream",
          "name": "stdout",
          "text": [
            "+------+-----------+------------+\n",
            "|origin|destination|flight_count|\n",
            "+------+-----------+------------+\n",
            "|   ATL|        LGA|        2501|\n",
            "|   ATL|        MCO|        2136|\n",
            "|   SFO|        LAX|        2120|\n",
            "|   LAX|        SFO|        2093|\n",
            "|   DAL|        HOU|        2047|\n",
            "+------+-----------+------------+\n",
            "\n"
          ]
        }
      ]
    },
    {
      "cell_type": "code",
      "source": [
        "monthly_trends_ayush.show()"
      ],
      "metadata": {
        "colab": {
          "base_uri": "https://localhost:8080/"
        },
        "id": "Mu43_0ptwvZk",
        "outputId": "1dbfc818-58b6-4210-b6d5-8b499450d851"
      },
      "execution_count": null,
      "outputs": [
        {
          "output_type": "stream",
          "name": "stdout",
          "text": [
            "+-----+-------------+------------------+\n",
            "|month|total_flights|         avg_delay|\n",
            "+-----+-------------+------------------+\n",
            "|   00|        22768|12.581210470836261|\n",
            "|   01|        18816|13.249734268707483|\n",
            "|   02|        17294|14.755348675841333|\n",
            "|   03|        19810|13.902826855123674|\n",
            "|   04|        15948|14.260785051417106|\n",
            "|   05|        17984|14.089968861209965|\n",
            "|   10|        19954|14.318181818181818|\n",
            "|   11|        17618|12.912702917470769|\n",
            "|   12|        15733|12.583995423631857|\n",
            "|   13|        14865|12.576387487386478|\n",
            "|   14|        14423|13.153227483879913|\n",
            "|   15|        16204|13.479449518637374|\n",
            "|   20|        17067|12.804945215913751|\n",
            "|   21|        13889|12.446756425948593|\n",
            "|   22|        11598| 13.79660286256251|\n",
            "|   23|        13377|12.314046497719968|\n",
            "|   24|        11323|12.844034266537136|\n",
            "|   25|        12820|12.277223088923558|\n",
            "|   30|        13475|12.693803339517626|\n",
            "|   31|        12426|13.186946724609689|\n",
            "+-----+-------------+------------------+\n",
            "only showing top 20 rows\n",
            "\n"
          ]
        }
      ]
    },
    {
      "cell_type": "code",
      "source": [
        "delayed_percentage_ayush.show()"
      ],
      "metadata": {
        "colab": {
          "base_uri": "https://localhost:8080/"
        },
        "id": "Bk1ad1x_wvb1",
        "outputId": "0cf2518d-f194-4b7b-e1c3-e30dfe31db51"
      },
      "execution_count": null,
      "outputs": [
        {
          "output_type": "stream",
          "name": "stdout",
          "text": [
            "+------+-------------+---------------+------------------+\n",
            "|origin|total_flights|delayed_flights|delayed_percentage|\n",
            "+------+-------------+---------------+------------------+\n",
            "|   LSE|           92|             60| 65.21739130434783|\n",
            "|   DAL|        11272|           7153| 63.45812633073101|\n",
            "|   MDW|        12641|           7881| 62.34475120639190|\n",
            "|   HOU|         9619|           5578| 57.98939598710885|\n",
            "|   DEN|        53148|          30760| 57.87611951531572|\n",
            "|   BWI|        21558|          12448| 57.74190555710177|\n",
            "|   ISP|          834|            479| 57.43405275779376|\n",
            "|   ORD|        41312|          22867| 55.35195584817971|\n",
            "|   OAK|         6513|           3579| 54.95163519115615|\n",
            "|   FLL|        11405|           6037| 52.93292415607190|\n",
            "+------+-------------+---------------+------------------+\n",
            "\n"
          ]
        }
      ]
    },
    {
      "cell_type": "code",
      "source": [
        "delay_by_hour_ayush.show()"
      ],
      "metadata": {
        "colab": {
          "base_uri": "https://localhost:8080/"
        },
        "id": "zEc8XUQiwzld",
        "outputId": "fa85bb56-5089-4806-cb8d-83355ae07411"
      },
      "execution_count": null,
      "outputs": [
        {
          "output_type": "stream",
          "name": "stdout",
          "text": [
            "+----+------------------+\n",
            "|hour|         avg_delay|\n",
            "+----+------------------+\n",
            "|NULL|13.048460052928975|\n",
            "+----+------------------+\n",
            "\n"
          ]
        }
      ]
    },
    {
      "cell_type": "code",
      "source": [
        "spark.stop()"
      ],
      "metadata": {
        "id": "YCWY0A9dw8bI"
      },
      "execution_count": null,
      "outputs": []
    }
  ]
}