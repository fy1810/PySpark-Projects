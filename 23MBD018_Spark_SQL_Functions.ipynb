{
  "nbformat": 4,
  "nbformat_minor": 0,
  "metadata": {
    "colab": {
      "provenance": []
    },
    "kernelspec": {
      "name": "python3",
      "display_name": "Python 3"
    },
    "language_info": {
      "name": "python"
    }
  },
  "cells": [
    {
      "cell_type": "code",
      "execution_count": null,
      "metadata": {
        "colab": {
          "base_uri": "https://localhost:8080/"
        },
        "id": "Fif-9PUpPhTW",
        "outputId": "f1596c80-ed4b-4592-f85d-be8645a1aff8"
      },
      "outputs": [
        {
          "output_type": "stream",
          "name": "stdout",
          "text": [
            "Collecting pyspark\n",
            "  Downloading pyspark-3.5.2.tar.gz (317.3 MB)\n",
            "\u001b[2K     \u001b[90m━━━━━━━━━━━━━━━━━━━━━━━━━━━━━━━━━━━━━━━━\u001b[0m \u001b[32m317.3/317.3 MB\u001b[0m \u001b[31m4.5 MB/s\u001b[0m eta \u001b[36m0:00:00\u001b[0m\n",
            "\u001b[?25h  Preparing metadata (setup.py) ... \u001b[?25l\u001b[?25hdone\n",
            "Requirement already satisfied: py4j==0.10.9.7 in /usr/local/lib/python3.10/dist-packages (from pyspark) (0.10.9.7)\n",
            "Building wheels for collected packages: pyspark\n",
            "  Building wheel for pyspark (setup.py) ... \u001b[?25l\u001b[?25hdone\n",
            "  Created wheel for pyspark: filename=pyspark-3.5.2-py2.py3-none-any.whl size=317812365 sha256=bbf9a0507c23eca10a3c3f83eb5022a5d78d17466630dba5b951506365cdb43a\n",
            "  Stored in directory: /root/.cache/pip/wheels/34/34/bd/03944534c44b677cd5859f248090daa9fb27b3c8f8e5f49574\n",
            "Successfully built pyspark\n",
            "Installing collected packages: pyspark\n",
            "Successfully installed pyspark-3.5.2\n"
          ]
        }
      ],
      "source": [
        "pip install pyspark"
      ]
    },
    {
      "cell_type": "code",
      "source": [
        "from pyspark.sql import SparkSession\n",
        "from pyspark.sql.functions import lit\n",
        "from datetime import datetime"
      ],
      "metadata": {
        "id": "r56jpiVRPrZR"
      },
      "execution_count": null,
      "outputs": []
    },
    {
      "cell_type": "code",
      "source": [
        "spark = SparkSession.builder.appName(\"PySparkSQLFunctions\").getOrCreate()\n",
        "spark"
      ],
      "metadata": {
        "colab": {
          "base_uri": "https://localhost:8080/",
          "height": 219
        },
        "id": "SzfAKYnzP0d_",
        "outputId": "e6b36fc2-672f-49e2-973f-c9fa167e6822"
      },
      "execution_count": null,
      "outputs": [
        {
          "output_type": "execute_result",
          "data": {
            "text/plain": [
              "<pyspark.sql.session.SparkSession at 0x7bc6d6f567d0>"
            ],
            "text/html": [
              "\n",
              "            <div>\n",
              "                <p><b>SparkSession - in-memory</b></p>\n",
              "                \n",
              "        <div>\n",
              "            <p><b>SparkContext</b></p>\n",
              "\n",
              "            <p><a href=\"http://a97e75ec3fce:4040\">Spark UI</a></p>\n",
              "\n",
              "            <dl>\n",
              "              <dt>Version</dt>\n",
              "                <dd><code>v3.5.2</code></dd>\n",
              "              <dt>Master</dt>\n",
              "                <dd><code>local[*]</code></dd>\n",
              "              <dt>AppName</dt>\n",
              "                <dd><code>PySparkSQLFunctions</code></dd>\n",
              "            </dl>\n",
              "        </div>\n",
              "        \n",
              "            </div>\n",
              "        "
            ]
          },
          "metadata": {},
          "execution_count": 3
        }
      ]
    },
    {
      "cell_type": "code",
      "source": [
        "data_ayush = [\n",
        "    (1, \"John Doe\", \"2024-08-01\", 23, 1000.50),\n",
        "    (2, \"Jane Smith\", \"2024-08-02\", 34, 2000.75),\n",
        "    (3, \"Jake White\", \"2024-08-03\", 18, 3000.10),\n",
        "    (4, \"Jill Black\", \"2024-08-04\", 45, 4000.25),\n",
        "    (5, \"James Brown\", \"2024-08-05\", 29, 1500.30),\n",
        "    (6, \"AyushKumarMishra\", \"2024-08-06\", 23, 2500.10),\n",
        "\n",
        "]\n"
      ],
      "metadata": {
        "id": "ovbuyXgMP7AW"
      },
      "execution_count": null,
      "outputs": []
    },
    {
      "cell_type": "code",
      "source": [
        "columns_ayush = [\"id\",\"name\",\"dob\",\"age\",\"salary\"]\n",
        "df_ayush = spark.createDataFrame(data_ayush, columns_ayush)"
      ],
      "metadata": {
        "id": "dFe8Lme0P-7m"
      },
      "execution_count": null,
      "outputs": []
    },
    {
      "cell_type": "code",
      "source": [
        "df_ayush.show()"
      ],
      "metadata": {
        "colab": {
          "base_uri": "https://localhost:8080/"
        },
        "id": "zxUj6aO-QDyG",
        "outputId": "2bb537ea-470c-4067-a878-e547c0683a19"
      },
      "execution_count": null,
      "outputs": [
        {
          "output_type": "stream",
          "name": "stdout",
          "text": [
            "+---+----------------+----------+---+-------+\n",
            "| id|            name|       dob|age| salary|\n",
            "+---+----------------+----------+---+-------+\n",
            "|  1|        John Doe|2024-08-01| 23| 1000.5|\n",
            "|  2|      Jane Smith|2024-08-02| 34|2000.75|\n",
            "|  3|      Jake White|2024-08-03| 18| 3000.1|\n",
            "|  4|      Jill Black|2024-08-04| 45|4000.25|\n",
            "|  5|     James Brown|2024-08-05| 29| 1500.3|\n",
            "|  6|AyushKumarMishra|2024-08-06| 23| 2500.1|\n",
            "+---+----------------+----------+---+-------+\n",
            "\n"
          ]
        }
      ]
    },
    {
      "cell_type": "code",
      "source": [
        "from pyspark.sql.functions import col"
      ],
      "metadata": {
        "id": "tq3VJ7a3QICO"
      },
      "execution_count": null,
      "outputs": []
    },
    {
      "cell_type": "code",
      "source": [
        "#col\n",
        "df_ayush.select(col(\"name\")).show()"
      ],
      "metadata": {
        "colab": {
          "base_uri": "https://localhost:8080/"
        },
        "id": "YpDWFEYlQXQ_",
        "outputId": "22019c3f-e61a-4488-bf49-2a4f2ca6097e"
      },
      "execution_count": null,
      "outputs": [
        {
          "output_type": "stream",
          "name": "stdout",
          "text": [
            "+----------------+\n",
            "|            name|\n",
            "+----------------+\n",
            "|        John Doe|\n",
            "|      Jane Smith|\n",
            "|      Jake White|\n",
            "|      Jill Black|\n",
            "|     James Brown|\n",
            "|AyushKumarMishra|\n",
            "+----------------+\n",
            "\n"
          ]
        }
      ]
    },
    {
      "cell_type": "code",
      "source": [
        "#lit\n",
        "df_country_ayush= df_ayush.withColumn(\"country\", lit(\"USA\"))\n",
        "df_country_ayush.show()"
      ],
      "metadata": {
        "colab": {
          "base_uri": "https://localhost:8080/"
        },
        "id": "UbNIOT2sQhDW",
        "outputId": "b55d12b7-c489-484b-9ae7-7c0fce9b2728"
      },
      "execution_count": null,
      "outputs": [
        {
          "output_type": "stream",
          "name": "stdout",
          "text": [
            "+---+----------------+----------+---+-------+-------+\n",
            "| id|            name|       dob|age| salary|country|\n",
            "+---+----------------+----------+---+-------+-------+\n",
            "|  1|        John Doe|2024-08-01| 23| 1000.5|    USA|\n",
            "|  2|      Jane Smith|2024-08-02| 34|2000.75|    USA|\n",
            "|  3|      Jake White|2024-08-03| 18| 3000.1|    USA|\n",
            "|  4|      Jill Black|2024-08-04| 45|4000.25|    USA|\n",
            "|  5|     James Brown|2024-08-05| 29| 1500.3|    USA|\n",
            "|  6|AyushKumarMishra|2024-08-06| 23| 2500.1|    USA|\n",
            "+---+----------------+----------+---+-------+-------+\n",
            "\n"
          ]
        }
      ]
    },
    {
      "cell_type": "code",
      "source": [
        "df_ayush.show()"
      ],
      "metadata": {
        "colab": {
          "base_uri": "https://localhost:8080/"
        },
        "id": "vNBGid-fQllO",
        "outputId": "54838719-e08f-4a2c-f4db-1e986134adf0"
      },
      "execution_count": null,
      "outputs": [
        {
          "output_type": "stream",
          "name": "stdout",
          "text": [
            "+---+----------------+----------+---+-------+\n",
            "| id|            name|       dob|age| salary|\n",
            "+---+----------------+----------+---+-------+\n",
            "|  1|        John Doe|2024-08-01| 23| 1000.5|\n",
            "|  2|      Jane Smith|2024-08-02| 34|2000.75|\n",
            "|  3|      Jake White|2024-08-03| 18| 3000.1|\n",
            "|  4|      Jill Black|2024-08-04| 45|4000.25|\n",
            "|  5|     James Brown|2024-08-05| 29| 1500.3|\n",
            "|  6|AyushKumarMishra|2024-08-06| 23| 2500.1|\n",
            "+---+----------------+----------+---+-------+\n",
            "\n"
          ]
        }
      ]
    },
    {
      "cell_type": "code",
      "source": [
        "#expr\n",
        "from pyspark.sql.functions import expr"
      ],
      "metadata": {
        "id": "Sh4qvMWKQ6om"
      },
      "execution_count": null,
      "outputs": []
    },
    {
      "cell_type": "code",
      "source": [
        "df_age_ayush =df_ayush.withColumn(\"age_plus_5\", expr(\"age + 5\"))\n",
        "df_age_ayush.show()"
      ],
      "metadata": {
        "colab": {
          "base_uri": "https://localhost:8080/"
        },
        "id": "2dnwl15ORHHW",
        "outputId": "033ccb8c-890e-400d-e7e0-810d11c6745a"
      },
      "execution_count": null,
      "outputs": [
        {
          "output_type": "stream",
          "name": "stdout",
          "text": [
            "+---+----------------+----------+---+-------+----------+\n",
            "| id|            name|       dob|age| salary|age_plus_5|\n",
            "+---+----------------+----------+---+-------+----------+\n",
            "|  1|        John Doe|2024-08-01| 23| 1000.5|        28|\n",
            "|  2|      Jane Smith|2024-08-02| 34|2000.75|        39|\n",
            "|  3|      Jake White|2024-08-03| 18| 3000.1|        23|\n",
            "|  4|      Jill Black|2024-08-04| 45|4000.25|        50|\n",
            "|  5|     James Brown|2024-08-05| 29| 1500.3|        34|\n",
            "|  6|AyushKumarMishra|2024-08-06| 23| 2500.1|        28|\n",
            "+---+----------------+----------+---+-------+----------+\n",
            "\n"
          ]
        }
      ]
    },
    {
      "cell_type": "code",
      "source": [
        "#when\n",
        "from pyspark.sql.functions import when"
      ],
      "metadata": {
        "id": "xeBmxWgfRXgu"
      },
      "execution_count": null,
      "outputs": []
    },
    {
      "cell_type": "code",
      "source": [
        "df_classification_ayush = df_ayush.withColumn(\"classification\", when(col(\"age\") >= 18, \"Adult\").otherwise(\"Minor\"))\n",
        "df_classification_ayush.show()"
      ],
      "metadata": {
        "colab": {
          "base_uri": "https://localhost:8080/"
        },
        "id": "JrGUBR7CR5Y_",
        "outputId": "0eab8df7-341e-49a3-8d3b-7e01464978e2"
      },
      "execution_count": null,
      "outputs": [
        {
          "output_type": "stream",
          "name": "stdout",
          "text": [
            "+---+----------------+----------+---+-------+--------------+\n",
            "| id|            name|       dob|age| salary|classification|\n",
            "+---+----------------+----------+---+-------+--------------+\n",
            "|  1|        John Doe|2024-08-01| 23| 1000.5|         Adult|\n",
            "|  2|      Jane Smith|2024-08-02| 34|2000.75|         Adult|\n",
            "|  3|      Jake White|2024-08-03| 18| 3000.1|         Adult|\n",
            "|  4|      Jill Black|2024-08-04| 45|4000.25|         Adult|\n",
            "|  5|     James Brown|2024-08-05| 29| 1500.3|         Adult|\n",
            "|  6|AyushKumarMishra|2024-08-06| 23| 2500.1|         Adult|\n",
            "+---+----------------+----------+---+-------+--------------+\n",
            "\n"
          ]
        }
      ]
    },
    {
      "cell_type": "code",
      "source": [
        "#concat\n",
        "from pyspark.sql.functions import concat"
      ],
      "metadata": {
        "id": "oBbWhpA5R_MV"
      },
      "execution_count": null,
      "outputs": []
    },
    {
      "cell_type": "code",
      "source": [
        "df_concat_ayush = df_ayush.withColumn(\"full_name\", concat(col(\"name\"), lit(\" \")))"
      ],
      "metadata": {
        "id": "qp7ghC2GSPX1"
      },
      "execution_count": null,
      "outputs": []
    },
    {
      "cell_type": "code",
      "source": [
        "df_concat_ayush.show()"
      ],
      "metadata": {
        "colab": {
          "base_uri": "https://localhost:8080/"
        },
        "id": "n0y4JpUvSVUG",
        "outputId": "50841def-3534-4f0b-8a55-3db1222a2d38"
      },
      "execution_count": null,
      "outputs": [
        {
          "output_type": "stream",
          "name": "stdout",
          "text": [
            "+---+----------------+----------+---+-------+-----------------+\n",
            "| id|            name|       dob|age| salary|        full_name|\n",
            "+---+----------------+----------+---+-------+-----------------+\n",
            "|  1|        John Doe|2024-08-01| 23| 1000.5|        John Doe |\n",
            "|  2|      Jane Smith|2024-08-02| 34|2000.75|      Jane Smith |\n",
            "|  3|      Jake White|2024-08-03| 18| 3000.1|      Jake White |\n",
            "|  4|      Jill Black|2024-08-04| 45|4000.25|      Jill Black |\n",
            "|  5|     James Brown|2024-08-05| 29| 1500.3|     James Brown |\n",
            "|  6|AyushKumarMishra|2024-08-06| 23| 2500.1|AyushKumarMishra |\n",
            "+---+----------------+----------+---+-------+-----------------+\n",
            "\n"
          ]
        }
      ]
    },
    {
      "cell_type": "markdown",
      "source": [],
      "metadata": {
        "id": "f9jgfdp6SspH"
      }
    },
    {
      "cell_type": "code",
      "source": [
        "#substring\n",
        "from pyspark.sql.functions import substring"
      ],
      "metadata": {
        "id": "qeDD3pUmSZae"
      },
      "execution_count": null,
      "outputs": []
    },
    {
      "cell_type": "code",
      "source": [
        "df_substring_ayush = df_ayush.withColumn(\"first_three_chars\", substring(col(\"name\"), 1, 3))\n"
      ],
      "metadata": {
        "colab": {
          "base_uri": "https://localhost:8080/"
        },
        "id": "sXGUZ9uQShSW",
        "outputId": "a9cd79a2-78f9-4304-cbc6-9f92a1aed0dc"
      },
      "execution_count": null,
      "outputs": [
        {
          "output_type": "stream",
          "name": "stdout",
          "text": [
            "+---+----------------+----------+---+-------+-----------------+\n",
            "| id|            name|       dob|age| salary|first_three_chars|\n",
            "+---+----------------+----------+---+-------+-----------------+\n",
            "|  1|        John Doe|2024-08-01| 23| 1000.5|              Joh|\n",
            "|  2|      Jane Smith|2024-08-02| 34|2000.75|              Jan|\n",
            "|  3|      Jake White|2024-08-03| 18| 3000.1|              Jak|\n",
            "|  4|      Jill Black|2024-08-04| 45|4000.25|              Jil|\n",
            "|  5|     James Brown|2024-08-05| 29| 1500.3|              Jam|\n",
            "|  6|AyushKumarMishra|2024-08-06| 23| 2500.1|              Ayu|\n",
            "+---+----------------+----------+---+-------+-----------------+\n",
            "\n"
          ]
        }
      ]
    },
    {
      "cell_type": "code",
      "source": [
        "df_substring_ayush.show()"
      ],
      "metadata": {
        "colab": {
          "base_uri": "https://localhost:8080/"
        },
        "id": "ukaum4guSnlW",
        "outputId": "db184c1d-215b-4e79-ccac-cfbcf0e599e9"
      },
      "execution_count": null,
      "outputs": [
        {
          "output_type": "stream",
          "name": "stdout",
          "text": [
            "+---+----------------+----------+---+-------+-----------------+\n",
            "| id|            name|       dob|age| salary|first_three_chars|\n",
            "+---+----------------+----------+---+-------+-----------------+\n",
            "|  1|        John Doe|2024-08-01| 23| 1000.5|              Joh|\n",
            "|  2|      Jane Smith|2024-08-02| 34|2000.75|              Jan|\n",
            "|  3|      Jake White|2024-08-03| 18| 3000.1|              Jak|\n",
            "|  4|      Jill Black|2024-08-04| 45|4000.25|              Jil|\n",
            "|  5|     James Brown|2024-08-05| 29| 1500.3|              Jam|\n",
            "|  6|AyushKumarMishra|2024-08-06| 23| 2500.1|              Ayu|\n",
            "+---+----------------+----------+---+-------+-----------------+\n",
            "\n"
          ]
        }
      ]
    },
    {
      "cell_type": "code",
      "source": [
        "#split\n",
        "from pyspark.sql.functions import split"
      ],
      "metadata": {
        "id": "iHrKGfqXSq--"
      },
      "execution_count": null,
      "outputs": []
    },
    {
      "cell_type": "code",
      "source": [
        "df_split_ayush = df_ayush.withColumn(\"name_array\", split(col(\"name\"), \" \"))"
      ],
      "metadata": {
        "id": "g5D-EI4OSzhd"
      },
      "execution_count": null,
      "outputs": []
    },
    {
      "cell_type": "code",
      "source": [
        "df_split_ayush.show()"
      ],
      "metadata": {
        "colab": {
          "base_uri": "https://localhost:8080/"
        },
        "id": "5s3YUL13S89G",
        "outputId": "e17ffe49-b487-450f-dc9d-897f7b8a3bd6"
      },
      "execution_count": null,
      "outputs": [
        {
          "output_type": "stream",
          "name": "stdout",
          "text": [
            "+---+----------------+----------+---+-------+------------------+\n",
            "| id|            name|       dob|age| salary|        name_array|\n",
            "+---+----------------+----------+---+-------+------------------+\n",
            "|  1|        John Doe|2024-08-01| 23| 1000.5|       [John, Doe]|\n",
            "|  2|      Jane Smith|2024-08-02| 34|2000.75|     [Jane, Smith]|\n",
            "|  3|      Jake White|2024-08-03| 18| 3000.1|     [Jake, White]|\n",
            "|  4|      Jill Black|2024-08-04| 45|4000.25|     [Jill, Black]|\n",
            "|  5|     James Brown|2024-08-05| 29| 1500.3|    [James, Brown]|\n",
            "|  6|AyushKumarMishra|2024-08-06| 23| 2500.1|[AyushKumarMishra]|\n",
            "+---+----------------+----------+---+-------+------------------+\n",
            "\n"
          ]
        }
      ]
    },
    {
      "cell_type": "code",
      "source": [
        "#regexp_replace\n",
        "from pyspark.sql.functions import regexp_replace"
      ],
      "metadata": {
        "id": "wB9fNqjeS9i1"
      },
      "execution_count": null,
      "outputs": []
    },
    {
      "cell_type": "code",
      "source": [
        "df_replace_ayush = df_ayush.withColumn(\"replaced_name\", regexp_replace(col(\"name\"), \"John\", \"Jon\"))\n",
        "df_replace_ayush.show()"
      ],
      "metadata": {
        "colab": {
          "base_uri": "https://localhost:8080/"
        },
        "id": "koX7MHmnTKnd",
        "outputId": "5fe41c58-c411-4a3d-cde6-d8425a3abdff"
      },
      "execution_count": null,
      "outputs": [
        {
          "output_type": "stream",
          "name": "stdout",
          "text": [
            "+---+----------------+----------+---+-------+----------------+\n",
            "| id|            name|       dob|age| salary|   replaced_name|\n",
            "+---+----------------+----------+---+-------+----------------+\n",
            "|  1|        John Doe|2024-08-01| 23| 1000.5|         Jon Doe|\n",
            "|  2|      Jane Smith|2024-08-02| 34|2000.75|      Jane Smith|\n",
            "|  3|      Jake White|2024-08-03| 18| 3000.1|      Jake White|\n",
            "|  4|      Jill Black|2024-08-04| 45|4000.25|      Jill Black|\n",
            "|  5|     James Brown|2024-08-05| 29| 1500.3|     James Brown|\n",
            "|  6|AyushKumarMishra|2024-08-06| 23| 2500.1|AyushKumarMishra|\n",
            "+---+----------------+----------+---+-------+----------------+\n",
            "\n"
          ]
        }
      ]
    },
    {
      "cell_type": "code",
      "source": [
        "#count\n",
        "from pyspark.sql.functions import count"
      ],
      "metadata": {
        "id": "_mvzsDkCTVsV"
      },
      "execution_count": null,
      "outputs": []
    },
    {
      "cell_type": "code",
      "source": [
        "df_count_ayush = df_ayush.agg(count(\"*\").alias(\"total_count\"))"
      ],
      "metadata": {
        "id": "xfI0Kgk7TbXF"
      },
      "execution_count": null,
      "outputs": []
    },
    {
      "cell_type": "code",
      "source": [
        "df_count_ayush.show()"
      ],
      "metadata": {
        "colab": {
          "base_uri": "https://localhost:8080/"
        },
        "id": "pMQPDIYcTjO9",
        "outputId": "53b1f55b-4251-4df6-cde6-2f60e0759074"
      },
      "execution_count": null,
      "outputs": [
        {
          "output_type": "stream",
          "name": "stdout",
          "text": [
            "+-----------+\n",
            "|total_count|\n",
            "+-----------+\n",
            "|          6|\n",
            "+-----------+\n",
            "\n"
          ]
        }
      ]
    },
    {
      "cell_type": "code",
      "source": [
        "#sum\n",
        "from pyspark.sql.functions import sum"
      ],
      "metadata": {
        "id": "NiXQpiRZTkd1"
      },
      "execution_count": null,
      "outputs": []
    },
    {
      "cell_type": "code",
      "source": [
        "df_sum_ayush = df_ayush.agg(sum(\"salary\").alias(\"total_salary\"))"
      ],
      "metadata": {
        "id": "G7RLH5lcTqWN"
      },
      "execution_count": null,
      "outputs": []
    },
    {
      "cell_type": "code",
      "source": [
        "df_sum_ayush.show()"
      ],
      "metadata": {
        "colab": {
          "base_uri": "https://localhost:8080/"
        },
        "id": "rg4F4RajTyVF",
        "outputId": "bdefc6cf-d392-44a5-9ea7-2e3e851d46ad"
      },
      "execution_count": null,
      "outputs": [
        {
          "output_type": "stream",
          "name": "stdout",
          "text": [
            "+------------+\n",
            "|total_salary|\n",
            "+------------+\n",
            "|     14002.0|\n",
            "+------------+\n",
            "\n"
          ]
        }
      ]
    },
    {
      "cell_type": "code",
      "source": [
        "#avg\n",
        "from pyspark.sql.functions import avg"
      ],
      "metadata": {
        "id": "eECdoV5nT0fN"
      },
      "execution_count": null,
      "outputs": []
    },
    {
      "cell_type": "code",
      "source": [
        "df_avg_ayush = df_ayush.agg(avg(\"age\").alias(\"average_age\"))"
      ],
      "metadata": {
        "id": "2pulQtnyT4dl"
      },
      "execution_count": null,
      "outputs": []
    },
    {
      "cell_type": "code",
      "source": [
        "df_avg_ayush.show()"
      ],
      "metadata": {
        "colab": {
          "base_uri": "https://localhost:8080/"
        },
        "id": "OOB8fBnhT_Ul",
        "outputId": "3848635f-bd3f-4623-8cc7-d920dc7cb349"
      },
      "execution_count": null,
      "outputs": [
        {
          "output_type": "stream",
          "name": "stdout",
          "text": [
            "+------------------+\n",
            "|       average_age|\n",
            "+------------------+\n",
            "|28.666666666666668|\n",
            "+------------------+\n",
            "\n"
          ]
        }
      ]
    },
    {
      "cell_type": "code",
      "source": [
        "#max\n",
        "from pyspark.sql.functions import max"
      ],
      "metadata": {
        "id": "71KmmjJ0UCPd"
      },
      "execution_count": null,
      "outputs": []
    },
    {
      "cell_type": "code",
      "source": [
        "df_max_ayush = df_ayush.agg(max(\"salary\").alias(\"max_salary\"))"
      ],
      "metadata": {
        "id": "zKTiLfKlUKON"
      },
      "execution_count": null,
      "outputs": []
    },
    {
      "cell_type": "code",
      "source": [
        "df_max_ayush.show()"
      ],
      "metadata": {
        "colab": {
          "base_uri": "https://localhost:8080/"
        },
        "id": "Yi0MV7nfUQT9",
        "outputId": "95e23374-d10f-4087-c58c-08ec2a2abf07"
      },
      "execution_count": null,
      "outputs": [
        {
          "output_type": "stream",
          "name": "stdout",
          "text": [
            "+----------+\n",
            "|max_salary|\n",
            "+----------+\n",
            "|   4000.25|\n",
            "+----------+\n",
            "\n"
          ]
        }
      ]
    },
    {
      "cell_type": "code",
      "source": [
        "#min\n",
        "from pyspark.sql.functions import min"
      ],
      "metadata": {
        "id": "Nas-3HfeUSPN"
      },
      "execution_count": null,
      "outputs": []
    },
    {
      "cell_type": "code",
      "source": [
        "df_min_ayush = df_ayush.agg(min(\"age\").alias(\"min_age\"))"
      ],
      "metadata": {
        "id": "oX6IMhVmUZjt"
      },
      "execution_count": null,
      "outputs": []
    },
    {
      "cell_type": "code",
      "source": [
        "df_min_ayush.show()"
      ],
      "metadata": {
        "colab": {
          "base_uri": "https://localhost:8080/"
        },
        "id": "hST-9C0gUgM1",
        "outputId": "730fbe09-b126-4dd5-e9bb-1fd6b38c1606"
      },
      "execution_count": null,
      "outputs": [
        {
          "output_type": "stream",
          "name": "stdout",
          "text": [
            "+-------+\n",
            "|min_age|\n",
            "+-------+\n",
            "|     18|\n",
            "+-------+\n",
            "\n"
          ]
        }
      ]
    },
    {
      "cell_type": "code",
      "source": [
        "#round\n",
        "from pyspark.sql.functions import round"
      ],
      "metadata": {
        "id": "s6LFZosSUiKU"
      },
      "execution_count": null,
      "outputs": []
    },
    {
      "cell_type": "code",
      "source": [
        "df_round_ayush = df_ayush.withColumn(\"rounded_salary\", round(col(\"salary\"), 0))"
      ],
      "metadata": {
        "id": "vdSkfJPvUm4c"
      },
      "execution_count": null,
      "outputs": []
    },
    {
      "cell_type": "code",
      "source": [
        "df_round_ayush.show()"
      ],
      "metadata": {
        "colab": {
          "base_uri": "https://localhost:8080/"
        },
        "id": "xkXfpGLnUvqn",
        "outputId": "b68f91c1-f7fb-4409-c8bc-29c8c6cdc601"
      },
      "execution_count": null,
      "outputs": [
        {
          "output_type": "stream",
          "name": "stdout",
          "text": [
            "+---+----------------+----------+---+-------+--------------+\n",
            "| id|            name|       dob|age| salary|rounded_salary|\n",
            "+---+----------------+----------+---+-------+--------------+\n",
            "|  1|        John Doe|2024-08-01| 23| 1000.5|        1001.0|\n",
            "|  2|      Jane Smith|2024-08-02| 34|2000.75|        2001.0|\n",
            "|  3|      Jake White|2024-08-03| 18| 3000.1|        3000.0|\n",
            "|  4|      Jill Black|2024-08-04| 45|4000.25|        4000.0|\n",
            "|  5|     James Brown|2024-08-05| 29| 1500.3|        1500.0|\n",
            "|  6|AyushKumarMishra|2024-08-06| 23| 2500.1|        2500.0|\n",
            "+---+----------------+----------+---+-------+--------------+\n",
            "\n"
          ]
        }
      ]
    },
    {
      "cell_type": "code",
      "source": [
        "#date_format\n",
        "from pyspark.sql.functions import date_format"
      ],
      "metadata": {
        "id": "YKNDPHSEUy2F"
      },
      "execution_count": null,
      "outputs": []
    },
    {
      "cell_type": "code",
      "source": [
        "df_date_format_ayush = df_ayush.withColumn(\"formatted_dob\", date_format(col(\"dob\"), \"MM/dd/yyyy\"))"
      ],
      "metadata": {
        "id": "mvhhZpEPU5Xd"
      },
      "execution_count": null,
      "outputs": []
    },
    {
      "cell_type": "code",
      "source": [
        "df_date_format_ayush.show()"
      ],
      "metadata": {
        "colab": {
          "base_uri": "https://localhost:8080/"
        },
        "id": "l53DrOhHVAlF",
        "outputId": "0c700409-43ce-48c3-fd39-11b43bdbee43"
      },
      "execution_count": null,
      "outputs": [
        {
          "output_type": "stream",
          "name": "stdout",
          "text": [
            "+---+----------------+----------+---+-------+-------------+\n",
            "| id|            name|       dob|age| salary|formatted_dob|\n",
            "+---+----------------+----------+---+-------+-------------+\n",
            "|  1|        John Doe|2024-08-01| 23| 1000.5|   08/01/2024|\n",
            "|  2|      Jane Smith|2024-08-02| 34|2000.75|   08/02/2024|\n",
            "|  3|      Jake White|2024-08-03| 18| 3000.1|   08/03/2024|\n",
            "|  4|      Jill Black|2024-08-04| 45|4000.25|   08/04/2024|\n",
            "|  5|     James Brown|2024-08-05| 29| 1500.3|   08/05/2024|\n",
            "|  6|AyushKumarMishra|2024-08-06| 23| 2500.1|   08/06/2024|\n",
            "+---+----------------+----------+---+-------+-------------+\n",
            "\n"
          ]
        }
      ]
    },
    {
      "cell_type": "code",
      "source": [
        "#current_date\n",
        "from pyspark.sql.functions import current_date"
      ],
      "metadata": {
        "id": "VzdbM3BsVF8F"
      },
      "execution_count": null,
      "outputs": []
    },
    {
      "cell_type": "code",
      "source": [
        "df_current_date_ayush = df_ayush.withColumn(\"current_date\", current_date())"
      ],
      "metadata": {
        "id": "xp079YubVL7V"
      },
      "execution_count": null,
      "outputs": []
    },
    {
      "cell_type": "code",
      "source": [
        "df_current_date_ayush.show()"
      ],
      "metadata": {
        "colab": {
          "base_uri": "https://localhost:8080/"
        },
        "id": "BPaCWqRhVQy0",
        "outputId": "65d34cdf-8504-4ed3-ccbe-0a704ccefe4a"
      },
      "execution_count": null,
      "outputs": [
        {
          "output_type": "stream",
          "name": "stdout",
          "text": [
            "+---+----------------+----------+---+-------+------------+\n",
            "| id|            name|       dob|age| salary|current_date|\n",
            "+---+----------------+----------+---+-------+------------+\n",
            "|  1|        John Doe|2024-08-01| 23| 1000.5|  2024-08-17|\n",
            "|  2|      Jane Smith|2024-08-02| 34|2000.75|  2024-08-17|\n",
            "|  3|      Jake White|2024-08-03| 18| 3000.1|  2024-08-17|\n",
            "|  4|      Jill Black|2024-08-04| 45|4000.25|  2024-08-17|\n",
            "|  5|     James Brown|2024-08-05| 29| 1500.3|  2024-08-17|\n",
            "|  6|AyushKumarMishra|2024-08-06| 23| 2500.1|  2024-08-17|\n",
            "+---+----------------+----------+---+-------+------------+\n",
            "\n"
          ]
        }
      ]
    },
    {
      "cell_type": "code",
      "source": [
        "#current_timestamp\n",
        "from pyspark.sql.functions import current_timestamp"
      ],
      "metadata": {
        "id": "3QMpsIsqVTIV"
      },
      "execution_count": null,
      "outputs": []
    },
    {
      "cell_type": "code",
      "source": [
        "df_current_timestamp_ayush = df_ayush.withColumn(\"current_timestamp\", current_timestamp())"
      ],
      "metadata": {
        "id": "f-ifTky-VZRV"
      },
      "execution_count": null,
      "outputs": []
    },
    {
      "cell_type": "code",
      "source": [
        "df_current_timestamp_ayush.show(truncate=False)"
      ],
      "metadata": {
        "colab": {
          "base_uri": "https://localhost:8080/"
        },
        "id": "glUsFwOmVeQU",
        "outputId": "beabc497-64af-4875-c80d-00bf62833632"
      },
      "execution_count": null,
      "outputs": [
        {
          "output_type": "stream",
          "name": "stdout",
          "text": [
            "+---+----------------+----------+---+-------+--------------------------+\n",
            "|id |name            |dob       |age|salary |current_timestamp         |\n",
            "+---+----------------+----------+---+-------+--------------------------+\n",
            "|1  |John Doe        |2024-08-01|23 |1000.5 |2024-08-17 07:56:24.442251|\n",
            "|2  |Jane Smith      |2024-08-02|34 |2000.75|2024-08-17 07:56:24.442251|\n",
            "|3  |Jake White      |2024-08-03|18 |3000.1 |2024-08-17 07:56:24.442251|\n",
            "|4  |Jill Black      |2024-08-04|45 |4000.25|2024-08-17 07:56:24.442251|\n",
            "|5  |James Brown     |2024-08-05|29 |1500.3 |2024-08-17 07:56:24.442251|\n",
            "|6  |AyushKumarMishra|2024-08-06|23 |2500.1 |2024-08-17 07:56:24.442251|\n",
            "+---+----------------+----------+---+-------+--------------------------+\n",
            "\n"
          ]
        }
      ]
    },
    {
      "cell_type": "code",
      "source": [
        "#year , month , dayofmonth\n",
        "from pyspark.sql.functions import year , month , dayofmonth"
      ],
      "metadata": {
        "id": "VEMHDHb5Vg7c"
      },
      "execution_count": null,
      "outputs": []
    },
    {
      "cell_type": "code",
      "source": [
        "df_year_ayush = df_ayush.withColumn(\"year\", year(col(\"dob\")))"
      ],
      "metadata": {
        "id": "Bs-RsbxPVweE"
      },
      "execution_count": null,
      "outputs": []
    },
    {
      "cell_type": "code",
      "source": [
        "df_year_ayush.show()"
      ],
      "metadata": {
        "colab": {
          "base_uri": "https://localhost:8080/"
        },
        "id": "q-qVApu7V1FU",
        "outputId": "04f0d461-cceb-44d1-ecaf-6ff5da177804"
      },
      "execution_count": null,
      "outputs": [
        {
          "output_type": "stream",
          "name": "stdout",
          "text": [
            "+---+----------------+----------+---+-------+----+\n",
            "| id|            name|       dob|age| salary|year|\n",
            "+---+----------------+----------+---+-------+----+\n",
            "|  1|        John Doe|2024-08-01| 23| 1000.5|2024|\n",
            "|  2|      Jane Smith|2024-08-02| 34|2000.75|2024|\n",
            "|  3|      Jake White|2024-08-03| 18| 3000.1|2024|\n",
            "|  4|      Jill Black|2024-08-04| 45|4000.25|2024|\n",
            "|  5|     James Brown|2024-08-05| 29| 1500.3|2024|\n",
            "|  6|AyushKumarMishra|2024-08-06| 23| 2500.1|2024|\n",
            "+---+----------------+----------+---+-------+----+\n",
            "\n"
          ]
        }
      ]
    },
    {
      "cell_type": "code",
      "source": [
        "#date_add\n",
        "from pyspark.sql.functions import date_add"
      ],
      "metadata": {
        "id": "iQBpwJ0LV4IU"
      },
      "execution_count": null,
      "outputs": []
    },
    {
      "cell_type": "code",
      "source": [
        "df_date_add_ayush = df_ayush.withColumn(\"date_after_10_days\", date_add(col(\"dob\"), 10))"
      ],
      "metadata": {
        "id": "dOHYtPcaWTMc"
      },
      "execution_count": null,
      "outputs": []
    },
    {
      "cell_type": "code",
      "source": [
        "df_date_add_ayush.show()"
      ],
      "metadata": {
        "colab": {
          "base_uri": "https://localhost:8080/"
        },
        "id": "r2_SNzMGWZ78",
        "outputId": "ca025887-51c8-4406-ec81-eca45620ed63"
      },
      "execution_count": null,
      "outputs": [
        {
          "output_type": "stream",
          "name": "stdout",
          "text": [
            "+---+----------------+----------+---+-------+------------------+\n",
            "| id|            name|       dob|age| salary|date_after_10_days|\n",
            "+---+----------------+----------+---+-------+------------------+\n",
            "|  1|        John Doe|2024-08-01| 23| 1000.5|        2024-08-11|\n",
            "|  2|      Jane Smith|2024-08-02| 34|2000.75|        2024-08-12|\n",
            "|  3|      Jake White|2024-08-03| 18| 3000.1|        2024-08-13|\n",
            "|  4|      Jill Black|2024-08-04| 45|4000.25|        2024-08-14|\n",
            "|  5|     James Brown|2024-08-05| 29| 1500.3|        2024-08-15|\n",
            "|  6|AyushKumarMishra|2024-08-06| 23| 2500.1|        2024-08-16|\n",
            "+---+----------------+----------+---+-------+------------------+\n",
            "\n"
          ]
        }
      ]
    },
    {
      "cell_type": "code",
      "source": [
        "#date_sub\n",
        "from pyspark.sql.functions import date_sub"
      ],
      "metadata": {
        "id": "m13aEgM1Wg9d"
      },
      "execution_count": null,
      "outputs": []
    },
    {
      "cell_type": "code",
      "source": [
        "df_date_sub_ayush = df_ayush.withColumn(\"date_before_10_days\", date_sub(col(\"dob\"), 10))"
      ],
      "metadata": {
        "id": "_28XmrmpWsAU"
      },
      "execution_count": null,
      "outputs": []
    },
    {
      "cell_type": "code",
      "source": [
        "df_date_sub_ayush.show()"
      ],
      "metadata": {
        "colab": {
          "base_uri": "https://localhost:8080/"
        },
        "id": "V_k5ux6vWyUE",
        "outputId": "9bdc4eb6-4305-4842-ec21-84d3a662fe5c"
      },
      "execution_count": null,
      "outputs": [
        {
          "output_type": "stream",
          "name": "stdout",
          "text": [
            "+---+----------------+----------+---+-------+-------------------+\n",
            "| id|            name|       dob|age| salary|date_before_10_days|\n",
            "+---+----------------+----------+---+-------+-------------------+\n",
            "|  1|        John Doe|2024-08-01| 23| 1000.5|         2024-07-22|\n",
            "|  2|      Jane Smith|2024-08-02| 34|2000.75|         2024-07-23|\n",
            "|  3|      Jake White|2024-08-03| 18| 3000.1|         2024-07-24|\n",
            "|  4|      Jill Black|2024-08-04| 45|4000.25|         2024-07-25|\n",
            "|  5|     James Brown|2024-08-05| 29| 1500.3|         2024-07-26|\n",
            "|  6|AyushKumarMishra|2024-08-06| 23| 2500.1|         2024-07-27|\n",
            "+---+----------------+----------+---+-------+-------------------+\n",
            "\n"
          ]
        }
      ]
    },
    {
      "cell_type": "code",
      "source": [
        "#datediff\n",
        "from pyspark.sql.functions import datediff"
      ],
      "metadata": {
        "id": "lfWt3qmSW4pU"
      },
      "execution_count": null,
      "outputs": []
    },
    {
      "cell_type": "code",
      "source": [
        "df_date_diff_ayush = df_ayush.withColumn(\"days_since_dob\", datediff(current_date(), col(\"dob\")))"
      ],
      "metadata": {
        "id": "b8PA2BXiXK-u"
      },
      "execution_count": null,
      "outputs": []
    },
    {
      "cell_type": "code",
      "source": [
        "df_date_diff_ayush.show()"
      ],
      "metadata": {
        "colab": {
          "base_uri": "https://localhost:8080/"
        },
        "id": "V8IhhzJMXTZ0",
        "outputId": "29b1a270-ca06-4c96-b010-65912069aaeb"
      },
      "execution_count": null,
      "outputs": [
        {
          "output_type": "stream",
          "name": "stdout",
          "text": [
            "+---+----------------+----------+---+-------+--------------+\n",
            "| id|            name|       dob|age| salary|days_since_dob|\n",
            "+---+----------------+----------+---+-------+--------------+\n",
            "|  1|        John Doe|2024-08-01| 23| 1000.5|            16|\n",
            "|  2|      Jane Smith|2024-08-02| 34|2000.75|            15|\n",
            "|  3|      Jake White|2024-08-03| 18| 3000.1|            14|\n",
            "|  4|      Jill Black|2024-08-04| 45|4000.25|            13|\n",
            "|  5|     James Brown|2024-08-05| 29| 1500.3|            12|\n",
            "|  6|AyushKumarMishra|2024-08-06| 23| 2500.1|            11|\n",
            "+---+----------------+----------+---+-------+--------------+\n",
            "\n"
          ]
        }
      ]
    },
    {
      "cell_type": "code",
      "source": [
        "#to_date\n",
        "from pyspark.sql.functions import to_date"
      ],
      "metadata": {
        "id": "KYol0ndaXUkW"
      },
      "execution_count": null,
      "outputs": []
    },
    {
      "cell_type": "code",
      "source": [
        "df_to_date_ayush = df_ayush.withColumn(\"dob_as_date\", to_date(col(\"dob\"), \"yyyy-MM-dd\"))"
      ],
      "metadata": {
        "id": "M1bA0H6iXjNE"
      },
      "execution_count": null,
      "outputs": []
    },
    {
      "cell_type": "code",
      "source": [
        "df_to_date_ayush.show()"
      ],
      "metadata": {
        "colab": {
          "base_uri": "https://localhost:8080/"
        },
        "id": "XtGathsyXnaU",
        "outputId": "e994fe39-84fc-4719-91e2-f9a475fd150a"
      },
      "execution_count": null,
      "outputs": [
        {
          "output_type": "stream",
          "name": "stdout",
          "text": [
            "+---+----------------+----------+---+-------+-----------+\n",
            "| id|            name|       dob|age| salary|dob_as_date|\n",
            "+---+----------------+----------+---+-------+-----------+\n",
            "|  1|        John Doe|2024-08-01| 23| 1000.5| 2024-08-01|\n",
            "|  2|      Jane Smith|2024-08-02| 34|2000.75| 2024-08-02|\n",
            "|  3|      Jake White|2024-08-03| 18| 3000.1| 2024-08-03|\n",
            "|  4|      Jill Black|2024-08-04| 45|4000.25| 2024-08-04|\n",
            "|  5|     James Brown|2024-08-05| 29| 1500.3| 2024-08-05|\n",
            "|  6|AyushKumarMishra|2024-08-06| 23| 2500.1| 2024-08-06|\n",
            "+---+----------------+----------+---+-------+-----------+\n",
            "\n"
          ]
        }
      ]
    },
    {
      "cell_type": "code",
      "source": [
        "#to_timestamp\n",
        "from pyspark.sql.functions import to_timestamp"
      ],
      "metadata": {
        "id": "TINCyAm3Xpds"
      },
      "execution_count": null,
      "outputs": []
    },
    {
      "cell_type": "code",
      "source": [
        "df_to_timestamp_ayush = df_ayush.withColumn(\"dob_as_timestamp\", to_timestamp(col(\"dob\"), \"yyyy-MM-dd\"))"
      ],
      "metadata": {
        "id": "I2b_rBPmXtcM"
      },
      "execution_count": null,
      "outputs": []
    },
    {
      "cell_type": "code",
      "source": [
        "df_to_timestamp_ayush.show(truncate=False)"
      ],
      "metadata": {
        "colab": {
          "base_uri": "https://localhost:8080/"
        },
        "id": "xg7xoatDX3n8",
        "outputId": "46f74189-bbce-4e53-9e69-d7fe4aed6e5e"
      },
      "execution_count": null,
      "outputs": [
        {
          "output_type": "stream",
          "name": "stdout",
          "text": [
            "+---+----------------+----------+---+-------+-------------------+\n",
            "|id |name            |dob       |age|salary |dob_as_timestamp   |\n",
            "+---+----------------+----------+---+-------+-------------------+\n",
            "|1  |John Doe        |2024-08-01|23 |1000.5 |2024-08-01 00:00:00|\n",
            "|2  |Jane Smith      |2024-08-02|34 |2000.75|2024-08-02 00:00:00|\n",
            "|3  |Jake White      |2024-08-03|18 |3000.1 |2024-08-03 00:00:00|\n",
            "|4  |Jill Black      |2024-08-04|45 |4000.25|2024-08-04 00:00:00|\n",
            "|5  |James Brown     |2024-08-05|29 |1500.3 |2024-08-05 00:00:00|\n",
            "|6  |AyushKumarMishra|2024-08-06|23 |2500.1 |2024-08-06 00:00:00|\n",
            "+---+----------------+----------+---+-------+-------------------+\n",
            "\n"
          ]
        }
      ]
    },
    {
      "cell_type": "code",
      "source": [
        "#window\n",
        "from pyspark.sql.functions import window"
      ],
      "metadata": {
        "id": "jXQ3J77UX588"
      },
      "execution_count": null,
      "outputs": []
    },
    {
      "cell_type": "code",
      "source": [
        "df_window_ayush = df_ayush.withColumn(\"window\", window(col(\"dob\"), \"1 day\"))"
      ],
      "metadata": {
        "id": "2ekiaLkzYDPU"
      },
      "execution_count": null,
      "outputs": []
    },
    {
      "cell_type": "code",
      "source": [
        "df_window_ayush.show(truncate=False)"
      ],
      "metadata": {
        "colab": {
          "base_uri": "https://localhost:8080/"
        },
        "id": "5y5UECBTYPe8",
        "outputId": "8879bf3c-fd91-42a7-f8aa-026abce4538f"
      },
      "execution_count": null,
      "outputs": [
        {
          "output_type": "stream",
          "name": "stdout",
          "text": [
            "+---+----------------+----------+---+-------+------------------------------------------+\n",
            "|id |name            |dob       |age|salary |window                                    |\n",
            "+---+----------------+----------+---+-------+------------------------------------------+\n",
            "|1  |John Doe        |2024-08-01|23 |1000.5 |{2024-08-01 00:00:00, 2024-08-02 00:00:00}|\n",
            "|2  |Jane Smith      |2024-08-02|34 |2000.75|{2024-08-02 00:00:00, 2024-08-03 00:00:00}|\n",
            "|3  |Jake White      |2024-08-03|18 |3000.1 |{2024-08-03 00:00:00, 2024-08-04 00:00:00}|\n",
            "|4  |Jill Black      |2024-08-04|45 |4000.25|{2024-08-04 00:00:00, 2024-08-05 00:00:00}|\n",
            "|5  |James Brown     |2024-08-05|29 |1500.3 |{2024-08-05 00:00:00, 2024-08-06 00:00:00}|\n",
            "|6  |AyushKumarMishra|2024-08-06|23 |2500.1 |{2024-08-06 00:00:00, 2024-08-07 00:00:00}|\n",
            "+---+----------------+----------+---+-------+------------------------------------------+\n",
            "\n"
          ]
        }
      ]
    },
    {
      "cell_type": "code",
      "source": [
        "#rank, dense_rank, row_number\n",
        "from pyspark.sql.window import Window\n",
        "from pyspark.sql.functions import rank, dense_rank, row_number"
      ],
      "metadata": {
        "id": "FQq2cEquYVmr"
      },
      "execution_count": null,
      "outputs": []
    },
    {
      "cell_type": "code",
      "source": [
        "windowSpec_ayush = Window.orderBy(col(\"salary\").desc())"
      ],
      "metadata": {
        "id": "CzrcUeYVYad0"
      },
      "execution_count": null,
      "outputs": []
    },
    {
      "cell_type": "code",
      "source": [
        "df_ayush.withColumn(\"rank\", rank().over(windowSpec_ayush)).withColumn(\"dense_rank\", dense_rank().over(windowSpec_ayush)).withColumn(\"row_number\", row_number().over(windowSpec_ayush)).show()\n"
      ],
      "metadata": {
        "colab": {
          "base_uri": "https://localhost:8080/"
        },
        "id": "uBLk929oYdq8",
        "outputId": "f6a39322-2b7a-4e3c-9db2-4f29cc2f590b"
      },
      "execution_count": null,
      "outputs": [
        {
          "output_type": "stream",
          "name": "stdout",
          "text": [
            "+---+----------------+----------+---+-------+----+----------+----------+\n",
            "| id|            name|       dob|age| salary|rank|dense_rank|row_number|\n",
            "+---+----------------+----------+---+-------+----+----------+----------+\n",
            "|  4|      Jill Black|2024-08-04| 45|4000.25|   1|         1|         1|\n",
            "|  3|      Jake White|2024-08-03| 18| 3000.1|   2|         2|         2|\n",
            "|  6|AyushKumarMishra|2024-08-06| 23| 2500.1|   3|         3|         3|\n",
            "|  2|      Jane Smith|2024-08-02| 34|2000.75|   4|         4|         4|\n",
            "|  5|     James Brown|2024-08-05| 29| 1500.3|   5|         5|         5|\n",
            "|  1|        John Doe|2024-08-01| 23| 1000.5|   6|         6|         6|\n",
            "+---+----------------+----------+---+-------+----+----------+----------+\n",
            "\n"
          ]
        }
      ]
    },
    {
      "cell_type": "code",
      "source": [
        "#array\n",
        "from pyspark.sql.functions import array"
      ],
      "metadata": {
        "id": "DM9ZUJsjYgjE"
      },
      "execution_count": null,
      "outputs": []
    },
    {
      "cell_type": "code",
      "source": [
        "df_array_ayush = df_ayush.withColumn(\"array_column\", array(col(\"id\"), col(\"age\")))"
      ],
      "metadata": {
        "id": "cgLZUhDnY1Nc"
      },
      "execution_count": null,
      "outputs": []
    },
    {
      "cell_type": "code",
      "source": [
        "df_array_ayush.show()"
      ],
      "metadata": {
        "colab": {
          "base_uri": "https://localhost:8080/"
        },
        "id": "zjhodqIlZGeL",
        "outputId": "6c1c9e09-9930-48f7-9d8b-9bf3143cb833"
      },
      "execution_count": null,
      "outputs": [
        {
          "output_type": "stream",
          "name": "stdout",
          "text": [
            "+---+----------------+----------+---+-------+------------+\n",
            "| id|            name|       dob|age| salary|array_column|\n",
            "+---+----------------+----------+---+-------+------------+\n",
            "|  1|        John Doe|2024-08-01| 23| 1000.5|     [1, 23]|\n",
            "|  2|      Jane Smith|2024-08-02| 34|2000.75|     [2, 34]|\n",
            "|  3|      Jake White|2024-08-03| 18| 3000.1|     [3, 18]|\n",
            "|  4|      Jill Black|2024-08-04| 45|4000.25|     [4, 45]|\n",
            "|  5|     James Brown|2024-08-05| 29| 1500.3|     [5, 29]|\n",
            "|  6|AyushKumarMishra|2024-08-06| 23| 2500.1|     [6, 23]|\n",
            "+---+----------------+----------+---+-------+------------+\n",
            "\n"
          ]
        }
      ]
    },
    {
      "cell_type": "code",
      "source": [
        "#array_contains\n",
        "from pyspark.sql.functions import array_contains"
      ],
      "metadata": {
        "id": "FjHe-1y7ZI77"
      },
      "execution_count": null,
      "outputs": []
    },
    {
      "cell_type": "code",
      "source": [
        "df_array_contains_ayush = df_ayush.withColumn(\"contains_id_1\", array_contains(array(col(\"id\")), 1))\n"
      ],
      "metadata": {
        "id": "NQULN5-YZNez"
      },
      "execution_count": null,
      "outputs": []
    },
    {
      "cell_type": "code",
      "source": [
        "df_array_contains_ayush.show()"
      ],
      "metadata": {
        "colab": {
          "base_uri": "https://localhost:8080/"
        },
        "id": "BMBm4YjhZR1j",
        "outputId": "63940a73-9feb-4b48-f4e9-de2ec76783bf"
      },
      "execution_count": null,
      "outputs": [
        {
          "output_type": "stream",
          "name": "stdout",
          "text": [
            "+---+----------------+----------+---+-------+-------------+\n",
            "| id|            name|       dob|age| salary|contains_id_1|\n",
            "+---+----------------+----------+---+-------+-------------+\n",
            "|  1|        John Doe|2024-08-01| 23| 1000.5|         true|\n",
            "|  2|      Jane Smith|2024-08-02| 34|2000.75|        false|\n",
            "|  3|      Jake White|2024-08-03| 18| 3000.1|        false|\n",
            "|  4|      Jill Black|2024-08-04| 45|4000.25|        false|\n",
            "|  5|     James Brown|2024-08-05| 29| 1500.3|        false|\n",
            "|  6|AyushKumarMishra|2024-08-06| 23| 2500.1|        false|\n",
            "+---+----------------+----------+---+-------+-------------+\n",
            "\n"
          ]
        }
      ]
    },
    {
      "cell_type": "code",
      "source": [
        "#explode\n",
        "from pyspark.sql.functions import explode"
      ],
      "metadata": {
        "id": "AR-oze1DZT2r"
      },
      "execution_count": null,
      "outputs": []
    },
    {
      "cell_type": "code",
      "source": [
        "df_explode_ayush = df_ayush.withColumn(\"exploded_array\", explode(array(col(\"id\"), col(\"age\"))))"
      ],
      "metadata": {
        "id": "qVFfiKZZZZfz"
      },
      "execution_count": null,
      "outputs": []
    },
    {
      "cell_type": "code",
      "source": [
        "df_explode_ayush.show()"
      ],
      "metadata": {
        "colab": {
          "base_uri": "https://localhost:8080/"
        },
        "id": "uDhfbQv6ZdPT",
        "outputId": "bb6006ea-3915-4597-8f7d-38039bac151b"
      },
      "execution_count": null,
      "outputs": [
        {
          "output_type": "stream",
          "name": "stdout",
          "text": [
            "+---+----------------+----------+---+-------+--------------+\n",
            "| id|            name|       dob|age| salary|exploded_array|\n",
            "+---+----------------+----------+---+-------+--------------+\n",
            "|  1|        John Doe|2024-08-01| 23| 1000.5|             1|\n",
            "|  1|        John Doe|2024-08-01| 23| 1000.5|            23|\n",
            "|  2|      Jane Smith|2024-08-02| 34|2000.75|             2|\n",
            "|  2|      Jane Smith|2024-08-02| 34|2000.75|            34|\n",
            "|  3|      Jake White|2024-08-03| 18| 3000.1|             3|\n",
            "|  3|      Jake White|2024-08-03| 18| 3000.1|            18|\n",
            "|  4|      Jill Black|2024-08-04| 45|4000.25|             4|\n",
            "|  4|      Jill Black|2024-08-04| 45|4000.25|            45|\n",
            "|  5|     James Brown|2024-08-05| 29| 1500.3|             5|\n",
            "|  5|     James Brown|2024-08-05| 29| 1500.3|            29|\n",
            "|  6|AyushKumarMishra|2024-08-06| 23| 2500.1|             6|\n",
            "|  6|AyushKumarMishra|2024-08-06| 23| 2500.1|            23|\n",
            "+---+----------------+----------+---+-------+--------------+\n",
            "\n"
          ]
        }
      ]
    },
    {
      "cell_type": "code",
      "source": [
        "#create_map\n",
        "from pyspark.sql.functions import create_map"
      ],
      "metadata": {
        "id": "4J9xpn3yZfIT"
      },
      "execution_count": null,
      "outputs": []
    },
    {
      "cell_type": "code",
      "source": [
        "df_map_ayush = df_ayush.withColumn(\"map_column\", create_map(lit(\"name\"), col(\"name\"), lit(\"age\"), col(\"age\")))\n"
      ],
      "metadata": {
        "id": "69lo5RV1Zp7D"
      },
      "execution_count": null,
      "outputs": []
    },
    {
      "cell_type": "code",
      "source": [
        "df_map_ayush.show(truncate=False)"
      ],
      "metadata": {
        "colab": {
          "base_uri": "https://localhost:8080/"
        },
        "id": "jXo7RbdHZxfb",
        "outputId": "4451636b-454d-4b6c-8dcc-089c82d75f4a"
      },
      "execution_count": null,
      "outputs": [
        {
          "output_type": "stream",
          "name": "stdout",
          "text": [
            "+---+----------------+----------+---+-------+-------------------------------------+\n",
            "|id |name            |dob       |age|salary |map_column                           |\n",
            "+---+----------------+----------+---+-------+-------------------------------------+\n",
            "|1  |John Doe        |2024-08-01|23 |1000.5 |{name -> John Doe, age -> 23}        |\n",
            "|2  |Jane Smith      |2024-08-02|34 |2000.75|{name -> Jane Smith, age -> 34}      |\n",
            "|3  |Jake White      |2024-08-03|18 |3000.1 |{name -> Jake White, age -> 18}      |\n",
            "|4  |Jill Black      |2024-08-04|45 |4000.25|{name -> Jill Black, age -> 45}      |\n",
            "|5  |James Brown     |2024-08-05|29 |1500.3 |{name -> James Brown, age -> 29}     |\n",
            "|6  |AyushKumarMishra|2024-08-06|23 |2500.1 |{name -> AyushKumarMishra, age -> 23}|\n",
            "+---+----------------+----------+---+-------+-------------------------------------+\n",
            "\n"
          ]
        }
      ]
    },
    {
      "cell_type": "code",
      "source": [
        "#coalesce\n",
        "from pyspark.sql.functions import coalesce"
      ],
      "metadata": {
        "id": "zk0Ay47XZ1VE"
      },
      "execution_count": null,
      "outputs": []
    },
    {
      "cell_type": "code",
      "source": [
        "df_coalesce_ayush = df_ayush.withColumn(\"coalesced_value\", coalesce(col(\"name\"), col(\"age\")))"
      ],
      "metadata": {
        "id": "DXyGnEtUZ8Vb"
      },
      "execution_count": null,
      "outputs": []
    },
    {
      "cell_type": "code",
      "source": [
        "df_coalesce_ayush.show()"
      ],
      "metadata": {
        "colab": {
          "base_uri": "https://localhost:8080/"
        },
        "id": "IrgMuBMLaAHr",
        "outputId": "e4aeca81-197e-429f-cafc-95507e57a3db"
      },
      "execution_count": null,
      "outputs": [
        {
          "output_type": "stream",
          "name": "stdout",
          "text": [
            "+---+----------------+----------+---+-------+----------------+\n",
            "| id|            name|       dob|age| salary| coalesced_value|\n",
            "+---+----------------+----------+---+-------+----------------+\n",
            "|  1|        John Doe|2024-08-01| 23| 1000.5|        John Doe|\n",
            "|  2|      Jane Smith|2024-08-02| 34|2000.75|      Jane Smith|\n",
            "|  3|      Jake White|2024-08-03| 18| 3000.1|      Jake White|\n",
            "|  4|      Jill Black|2024-08-04| 45|4000.25|      Jill Black|\n",
            "|  5|     James Brown|2024-08-05| 29| 1500.3|     James Brown|\n",
            "|  6|AyushKumarMishra|2024-08-06| 23| 2500.1|AyushKumarMishra|\n",
            "+---+----------------+----------+---+-------+----------------+\n",
            "\n"
          ]
        }
      ]
    },
    {
      "cell_type": "code",
      "source": [
        "#isnull\n",
        "from pyspark.sql.functions import isnull"
      ],
      "metadata": {
        "id": "Az5LHTeraC8D"
      },
      "execution_count": null,
      "outputs": []
    },
    {
      "cell_type": "code",
      "source": [
        "df_isnull_ayush = df_ayush.withColumn(\"is_name_null\", isnull(col(\"name\")))"
      ],
      "metadata": {
        "id": "9PXDvBXeaFzb"
      },
      "execution_count": null,
      "outputs": []
    },
    {
      "cell_type": "code",
      "source": [
        "df_isnull_ayush.show()"
      ],
      "metadata": {
        "colab": {
          "base_uri": "https://localhost:8080/"
        },
        "id": "jhOrLWxOaJ37",
        "outputId": "604755ce-573f-45f9-c252-431f7784d21e"
      },
      "execution_count": null,
      "outputs": [
        {
          "output_type": "stream",
          "name": "stdout",
          "text": [
            "+---+----------------+----------+---+-------+------------+\n",
            "| id|            name|       dob|age| salary|is_name_null|\n",
            "+---+----------------+----------+---+-------+------------+\n",
            "|  1|        John Doe|2024-08-01| 23| 1000.5|       false|\n",
            "|  2|      Jane Smith|2024-08-02| 34|2000.75|       false|\n",
            "|  3|      Jake White|2024-08-03| 18| 3000.1|       false|\n",
            "|  4|      Jill Black|2024-08-04| 45|4000.25|       false|\n",
            "|  5|     James Brown|2024-08-05| 29| 1500.3|       false|\n",
            "|  6|AyushKumarMishra|2024-08-06| 23| 2500.1|       false|\n",
            "+---+----------------+----------+---+-------+------------+\n",
            "\n"
          ]
        }
      ]
    },
    {
      "cell_type": "code",
      "source": [
        "#isnan\n",
        "from pyspark.sql.functions import isnan"
      ],
      "metadata": {
        "id": "oEx7L6lEaMg7"
      },
      "execution_count": null,
      "outputs": []
    },
    {
      "cell_type": "code",
      "source": [
        "df_isnan_ayush = df_ayush.withColumn(\"is_age_nan\", isnan(col(\"age\")))"
      ],
      "metadata": {
        "id": "Awl4T0dPaRy7"
      },
      "execution_count": null,
      "outputs": []
    },
    {
      "cell_type": "code",
      "source": [
        "df_isnan_ayush.show()"
      ],
      "metadata": {
        "colab": {
          "base_uri": "https://localhost:8080/"
        },
        "id": "813uaOXraWnz",
        "outputId": "bfd9f2fc-d80b-4bdd-df8d-7a6b6afa0f41"
      },
      "execution_count": null,
      "outputs": [
        {
          "output_type": "stream",
          "name": "stdout",
          "text": [
            "+---+----------------+----------+---+-------+----------+\n",
            "| id|            name|       dob|age| salary|is_age_nan|\n",
            "+---+----------------+----------+---+-------+----------+\n",
            "|  1|        John Doe|2024-08-01| 23| 1000.5|     false|\n",
            "|  2|      Jane Smith|2024-08-02| 34|2000.75|     false|\n",
            "|  3|      Jake White|2024-08-03| 18| 3000.1|     false|\n",
            "|  4|      Jill Black|2024-08-04| 45|4000.25|     false|\n",
            "|  5|     James Brown|2024-08-05| 29| 1500.3|     false|\n",
            "|  6|AyushKumarMishra|2024-08-06| 23| 2500.1|     false|\n",
            "+---+----------------+----------+---+-------+----------+\n",
            "\n"
          ]
        }
      ]
    },
    {
      "cell_type": "code",
      "source": [
        "#sha2\n",
        "from pyspark.sql.functions import sha2"
      ],
      "metadata": {
        "id": "uBsl-E8gaZd7"
      },
      "execution_count": null,
      "outputs": []
    },
    {
      "cell_type": "code",
      "source": [
        "df_sha2_ayush = df_ayush.withColumn(\"sha2_hash\", sha2(col(\"name\"), 256))"
      ],
      "metadata": {
        "id": "HpS-o7_0anAD"
      },
      "execution_count": null,
      "outputs": []
    },
    {
      "cell_type": "code",
      "source": [
        "df_sha2_ayush.show(truncate=False)"
      ],
      "metadata": {
        "colab": {
          "base_uri": "https://localhost:8080/"
        },
        "id": "QGizBvX5arDb",
        "outputId": "0caf6afb-43cb-4e1e-d06d-620529637d29"
      },
      "execution_count": null,
      "outputs": [
        {
          "output_type": "stream",
          "name": "stdout",
          "text": [
            "+---+----------------+----------+---+-------+----------------------------------------------------------------+\n",
            "|id |name            |dob       |age|salary |sha2_hash                                                       |\n",
            "+---+----------------+----------+---+-------+----------------------------------------------------------------+\n",
            "|1  |John Doe        |2024-08-01|23 |1000.5 |6cea57c2fb6cbc2a40411135005760f241fffc3e5e67ab99882726431037f908|\n",
            "|2  |Jane Smith      |2024-08-02|34 |2000.75|a2dd3acadb1c9dcd956216993056a7f50a9db6e3a16c60b35482139b5349c288|\n",
            "|3  |Jake White      |2024-08-03|18 |3000.1 |46dae60ac51d1dfbb195b62ca2a6c4fd76f0d0ef5e32ee32a3b9987bc30251ef|\n",
            "|4  |Jill Black      |2024-08-04|45 |4000.25|7db233fa461a23bfe24e0c1b5f0cd82e8750969c1e9c4450761cf800425caba7|\n",
            "|5  |James Brown     |2024-08-05|29 |1500.3 |b3d60509901a9912f651bac21d52c7ddffc9bc8620f5052fbddd39e3c59f84b0|\n",
            "|6  |AyushKumarMishra|2024-08-06|23 |2500.1 |bb8d28b36e4ed9bb8b9437f8a61e4df8f92ee6bc88cb800f7c34934801d5da59|\n",
            "+---+----------------+----------+---+-------+----------------------------------------------------------------+\n",
            "\n"
          ]
        }
      ]
    },
    {
      "cell_type": "code",
      "source": [
        "#md5\n",
        "from pyspark.sql.functions import md5"
      ],
      "metadata": {
        "id": "FgM6qi6vayUr"
      },
      "execution_count": null,
      "outputs": []
    },
    {
      "cell_type": "code",
      "source": [
        "df_md5_ayush = df_ayush.withColumn(\"md5_hash\", md5(col(\"name\")))"
      ],
      "metadata": {
        "id": "yCudrEeQa2nT"
      },
      "execution_count": null,
      "outputs": []
    },
    {
      "cell_type": "code",
      "source": [
        "df_md5_ayush.show(truncate=False)"
      ],
      "metadata": {
        "colab": {
          "base_uri": "https://localhost:8080/"
        },
        "id": "frRdC3Rfa7b7",
        "outputId": "aee62f47-2262-4e79-facb-ef88bf228690"
      },
      "execution_count": null,
      "outputs": [
        {
          "output_type": "stream",
          "name": "stdout",
          "text": [
            "+---+----------------+----------+---+-------+--------------------------------+\n",
            "|id |name            |dob       |age|salary |md5_hash                        |\n",
            "+---+----------------+----------+---+-------+--------------------------------+\n",
            "|1  |John Doe        |2024-08-01|23 |1000.5 |4c2a904bafba06591225113ad17b5cec|\n",
            "|2  |Jane Smith      |2024-08-02|34 |2000.75|71768b5e2a0b3697eb3c0c6d4ebbbaf8|\n",
            "|3  |Jake White      |2024-08-03|18 |3000.1 |3ee9984296bc94702c3fa0b750b928fb|\n",
            "|4  |Jill Black      |2024-08-04|45 |4000.25|78b82745b366583ae84dde2d90114901|\n",
            "|5  |James Brown     |2024-08-05|29 |1500.3 |8495e8e406d3d625719ae2a9fb8d2f9b|\n",
            "|6  |AyushKumarMishra|2024-08-06|23 |2500.1 |86cc692462570138ee65420b6aa0df20|\n",
            "+---+----------------+----------+---+-------+--------------------------------+\n",
            "\n"
          ]
        }
      ]
    },
    {
      "cell_type": "code",
      "source": [
        "#monotonically_increasing_id\n",
        "from pyspark.sql.functions import monotonically_increasing_id"
      ],
      "metadata": {
        "id": "YeP3XHira_Rb"
      },
      "execution_count": null,
      "outputs": []
    },
    {
      "cell_type": "code",
      "source": [
        "df_monotonically_increasing_id_ayush = df_ayush.withColumn(\"monotonically_increasing_id\", monotonically_increasing_id())"
      ],
      "metadata": {
        "id": "aH4Iii6TbNMb"
      },
      "execution_count": null,
      "outputs": []
    },
    {
      "cell_type": "code",
      "source": [
        "df_monotonically_increasing_id_ayush.show()"
      ],
      "metadata": {
        "colab": {
          "base_uri": "https://localhost:8080/"
        },
        "id": "NoVSUPSibTAj",
        "outputId": "aca04fd3-095e-45c3-c692-09027bf5cd60"
      },
      "execution_count": null,
      "outputs": [
        {
          "output_type": "stream",
          "name": "stdout",
          "text": [
            "+---+----------------+----------+---+-------+---------------------------+\n",
            "| id|            name|       dob|age| salary|monotonically_increasing_id|\n",
            "+---+----------------+----------+---+-------+---------------------------+\n",
            "|  1|        John Doe|2024-08-01| 23| 1000.5|                          0|\n",
            "|  2|      Jane Smith|2024-08-02| 34|2000.75|                          1|\n",
            "|  3|      Jake White|2024-08-03| 18| 3000.1|                          2|\n",
            "|  4|      Jill Black|2024-08-04| 45|4000.25|                 8589934592|\n",
            "|  5|     James Brown|2024-08-05| 29| 1500.3|                 8589934593|\n",
            "|  6|AyushKumarMishra|2024-08-06| 23| 2500.1|                 8589934594|\n",
            "+---+----------------+----------+---+-------+---------------------------+\n",
            "\n"
          ]
        }
      ]
    },
    {
      "cell_type": "code",
      "source": [
        "#length\n",
        "from pyspark.sql.functions import length"
      ],
      "metadata": {
        "id": "mvz0GxO_bWSr"
      },
      "execution_count": null,
      "outputs": []
    },
    {
      "cell_type": "code",
      "source": [
        "df_length_ayush = df_ayush.withColumn(\"name_length\", length(col(\"name\")))"
      ],
      "metadata": {
        "id": "iS3t8tz5boQj"
      },
      "execution_count": null,
      "outputs": []
    },
    {
      "cell_type": "code",
      "source": [
        "df_length_ayush.show()"
      ],
      "metadata": {
        "colab": {
          "base_uri": "https://localhost:8080/"
        },
        "id": "ZTfxjPmrbt1z",
        "outputId": "8c364ee3-9d42-49df-bb67-784362c1fd1e"
      },
      "execution_count": null,
      "outputs": [
        {
          "output_type": "stream",
          "name": "stdout",
          "text": [
            "+---+----------------+----------+---+-------+-----------+\n",
            "| id|            name|       dob|age| salary|name_length|\n",
            "+---+----------------+----------+---+-------+-----------+\n",
            "|  1|        John Doe|2024-08-01| 23| 1000.5|          8|\n",
            "|  2|      Jane Smith|2024-08-02| 34|2000.75|         10|\n",
            "|  3|      Jake White|2024-08-03| 18| 3000.1|         10|\n",
            "|  4|      Jill Black|2024-08-04| 45|4000.25|         10|\n",
            "|  5|     James Brown|2024-08-05| 29| 1500.3|         11|\n",
            "|  6|AyushKumarMishra|2024-08-06| 23| 2500.1|         16|\n",
            "+---+----------------+----------+---+-------+-----------+\n",
            "\n"
          ]
        }
      ]
    },
    {
      "cell_type": "code",
      "source": [
        "#upper, #lower\n",
        "from pyspark.sql.functions import upper , lower"
      ],
      "metadata": {
        "id": "EtIp8nuKbxVC"
      },
      "execution_count": null,
      "outputs": []
    },
    {
      "cell_type": "code",
      "source": [
        "df_upper_lower_ayush = df_ayush.withColumn(\"name_upper\", upper(col(\"name\"))).withColumn(\"name_lower\", lower(col(\"name\")))\n"
      ],
      "metadata": {
        "id": "z8dubvtscPHS"
      },
      "execution_count": null,
      "outputs": []
    },
    {
      "cell_type": "code",
      "source": [
        "df_upper_lower_ayush.show()"
      ],
      "metadata": {
        "colab": {
          "base_uri": "https://localhost:8080/"
        },
        "id": "J0hKEF2mcToy",
        "outputId": "5d057d71-6aad-43f2-95ca-8744aec8b29d"
      },
      "execution_count": null,
      "outputs": [
        {
          "output_type": "stream",
          "name": "stdout",
          "text": [
            "+---+----------------+----------+---+-------+----------------+----------------+\n",
            "| id|            name|       dob|age| salary|      name_upper|      name_lower|\n",
            "+---+----------------+----------+---+-------+----------------+----------------+\n",
            "|  1|        John Doe|2024-08-01| 23| 1000.5|        JOHN DOE|        john doe|\n",
            "|  2|      Jane Smith|2024-08-02| 34|2000.75|      JANE SMITH|      jane smith|\n",
            "|  3|      Jake White|2024-08-03| 18| 3000.1|      JAKE WHITE|      jake white|\n",
            "|  4|      Jill Black|2024-08-04| 45|4000.25|      JILL BLACK|      jill black|\n",
            "|  5|     James Brown|2024-08-05| 29| 1500.3|     JAMES BROWN|     james brown|\n",
            "|  6|AyushKumarMishra|2024-08-06| 23| 2500.1|AYUSHKUMARMISHRA|ayushkumarmishra|\n",
            "+---+----------------+----------+---+-------+----------------+----------------+\n",
            "\n"
          ]
        }
      ]
    },
    {
      "cell_type": "code",
      "source": [
        "#trim, ltrim, rtrim\n",
        "from pyspark.sql.functions import trim, ltrim, rtrim"
      ],
      "metadata": {
        "id": "5R9I8WHWcVsq"
      },
      "execution_count": null,
      "outputs": []
    },
    {
      "cell_type": "code",
      "source": [
        "df_all_ayush = df_ayush.withColumn(\"name_trimmed\", trim(col(\"name\"))).withColumn(\"name_ltrimmed\", ltrim(col(\"name\"))).withColumn(\"name_rtrimmed\", rtrim(col(\"name\")))\n"
      ],
      "metadata": {
        "id": "n1TKnrjGcgGq"
      },
      "execution_count": null,
      "outputs": []
    },
    {
      "cell_type": "code",
      "source": [
        "df_all_ayush.show()"
      ],
      "metadata": {
        "colab": {
          "base_uri": "https://localhost:8080/"
        },
        "id": "EBUFbcLdcx_i",
        "outputId": "b4895565-3eab-4384-efbf-85970d6830c5"
      },
      "execution_count": null,
      "outputs": [
        {
          "output_type": "stream",
          "name": "stdout",
          "text": [
            "+---+----------------+----------+---+-------+----------------+----------------+----------------+\n",
            "| id|            name|       dob|age| salary|    name_trimmed|   name_ltrimmed|   name_rtrimmed|\n",
            "+---+----------------+----------+---+-------+----------------+----------------+----------------+\n",
            "|  1|        John Doe|2024-08-01| 23| 1000.5|        John Doe|        John Doe|        John Doe|\n",
            "|  2|      Jane Smith|2024-08-02| 34|2000.75|      Jane Smith|      Jane Smith|      Jane Smith|\n",
            "|  3|      Jake White|2024-08-03| 18| 3000.1|      Jake White|      Jake White|      Jake White|\n",
            "|  4|      Jill Black|2024-08-04| 45|4000.25|      Jill Black|      Jill Black|      Jill Black|\n",
            "|  5|     James Brown|2024-08-05| 29| 1500.3|     James Brown|     James Brown|     James Brown|\n",
            "|  6|AyushKumarMishra|2024-08-06| 23| 2500.1|AyushKumarMishra|AyushKumarMishra|AyushKumarMishra|\n",
            "+---+----------------+----------+---+-------+----------------+----------------+----------------+\n",
            "\n"
          ]
        }
      ]
    },
    {
      "cell_type": "code",
      "source": [
        "#abs\n",
        "from pyspark.sql.functions import abs"
      ],
      "metadata": {
        "id": "o003Yk3Yc0oi"
      },
      "execution_count": null,
      "outputs": []
    },
    {
      "cell_type": "code",
      "source": [
        "df_abs_ayush = df_ayush.withColumn(\"abs_salary\", abs(col(\"salary\") - 3000))\n"
      ],
      "metadata": {
        "id": "uNtSg14Sc_L6"
      },
      "execution_count": null,
      "outputs": []
    },
    {
      "cell_type": "code",
      "source": [
        "df_abs_ayush.show()"
      ],
      "metadata": {
        "colab": {
          "base_uri": "https://localhost:8080/"
        },
        "id": "blsvinIAdEkS",
        "outputId": "ea2be3b9-a55c-4ddc-9889-3841203edf8f"
      },
      "execution_count": null,
      "outputs": [
        {
          "output_type": "stream",
          "name": "stdout",
          "text": [
            "+---+----------------+----------+---+-------+-------------------+\n",
            "| id|            name|       dob|age| salary|         abs_salary|\n",
            "+---+----------------+----------+---+-------+-------------------+\n",
            "|  1|        John Doe|2024-08-01| 23| 1000.5|             1999.5|\n",
            "|  2|      Jane Smith|2024-08-02| 34|2000.75|             999.25|\n",
            "|  3|      Jake White|2024-08-03| 18| 3000.1|0.09999999999990905|\n",
            "|  4|      Jill Black|2024-08-04| 45|4000.25|            1000.25|\n",
            "|  5|     James Brown|2024-08-05| 29| 1500.3|             1499.7|\n",
            "|  6|AyushKumarMishra|2024-08-06| 23| 2500.1|  499.9000000000001|\n",
            "+---+----------------+----------+---+-------+-------------------+\n",
            "\n"
          ]
        }
      ]
    },
    {
      "cell_type": "code",
      "source": [
        "#sqrt\n",
        "from pyspark.sql.functions import sqrt"
      ],
      "metadata": {
        "id": "crTwxGu2dH86"
      },
      "execution_count": null,
      "outputs": []
    },
    {
      "cell_type": "code",
      "source": [
        "df_sqrt_ayush = df_ayush.withColumn(\"sqrt_age\", sqrt(col(\"age\")))\n"
      ],
      "metadata": {
        "id": "Hxme4ukOdOLS"
      },
      "execution_count": null,
      "outputs": []
    },
    {
      "cell_type": "code",
      "source": [
        "df_sqrt_ayush.show()"
      ],
      "metadata": {
        "colab": {
          "base_uri": "https://localhost:8080/"
        },
        "id": "jUDdPa_3dYbr",
        "outputId": "1e961f17-2495-41eb-c2ce-d9c835c87603"
      },
      "execution_count": null,
      "outputs": [
        {
          "output_type": "stream",
          "name": "stdout",
          "text": [
            "+---+----------------+----------+---+-------+-----------------+\n",
            "| id|            name|       dob|age| salary|         sqrt_age|\n",
            "+---+----------------+----------+---+-------+-----------------+\n",
            "|  1|        John Doe|2024-08-01| 23| 1000.5|4.795831523312719|\n",
            "|  2|      Jane Smith|2024-08-02| 34|2000.75|5.830951894845301|\n",
            "|  3|      Jake White|2024-08-03| 18| 3000.1|4.242640687119285|\n",
            "|  4|      Jill Black|2024-08-04| 45|4000.25|6.708203932499369|\n",
            "|  5|     James Brown|2024-08-05| 29| 1500.3|5.385164807134504|\n",
            "|  6|AyushKumarMishra|2024-08-06| 23| 2500.1|4.795831523312719|\n",
            "+---+----------------+----------+---+-------+-----------------+\n",
            "\n"
          ]
        }
      ]
    },
    {
      "cell_type": "code",
      "source": [
        "#exp\n",
        "from pyspark.sql.functions import exp"
      ],
      "metadata": {
        "id": "_zPMoroPdcND"
      },
      "execution_count": null,
      "outputs": []
    },
    {
      "cell_type": "code",
      "source": [
        "df_exp_ayush= df_ayush.withColumn(\"exp_age\", exp(col(\"age\")))"
      ],
      "metadata": {
        "id": "huVpwjfHdmei"
      },
      "execution_count": null,
      "outputs": []
    },
    {
      "cell_type": "code",
      "source": [
        "df_exp_ayush.show()"
      ],
      "metadata": {
        "colab": {
          "base_uri": "https://localhost:8080/"
        },
        "id": "Dyjj3JpJdp7C",
        "outputId": "ec08fec7-5d7f-4542-feab-5913d3260b89"
      },
      "execution_count": null,
      "outputs": [
        {
          "output_type": "stream",
          "name": "stdout",
          "text": [
            "+---+----------------+----------+---+-------+--------------------+\n",
            "| id|            name|       dob|age| salary|             exp_age|\n",
            "+---+----------------+----------+---+-------+--------------------+\n",
            "|  1|        John Doe|2024-08-01| 23| 1000.5| 9.744803446248903E9|\n",
            "|  2|      Jane Smith|2024-08-02| 34|2000.75|5.834617425274549E14|\n",
            "|  3|      Jake White|2024-08-03| 18| 3000.1| 6.565996913733051E7|\n",
            "|  4|      Jill Black|2024-08-04| 45|4000.25|3.493427105748509...|\n",
            "|  5|     James Brown|2024-08-05| 29| 1500.3|3.931334297144042E12|\n",
            "|  6|AyushKumarMishra|2024-08-06| 23| 2500.1| 9.744803446248903E9|\n",
            "+---+----------------+----------+---+-------+--------------------+\n",
            "\n"
          ]
        }
      ]
    },
    {
      "cell_type": "code",
      "source": [
        "#log\n",
        "from pyspark.sql.functions import log, log10, log2"
      ],
      "metadata": {
        "id": "PCbgrluYdsUC"
      },
      "execution_count": null,
      "outputs": []
    },
    {
      "cell_type": "code",
      "source": [
        "df_all_ayush = df_ayush.withColumn(\"log_age\", log(col(\"age\"))).withColumn(\"log10_age\", log10(col(\"age\"))).withColumn(\"log2_age\", log2(col(\"age\")))"
      ],
      "metadata": {
        "id": "DFyEihYfdz2S"
      },
      "execution_count": null,
      "outputs": []
    },
    {
      "cell_type": "code",
      "source": [
        "df_all_ayush.show()"
      ],
      "metadata": {
        "colab": {
          "base_uri": "https://localhost:8080/"
        },
        "id": "ynGgZcYpd31S",
        "outputId": "328ea239-ac54-4c83-b07e-073d48bfdbc7"
      },
      "execution_count": null,
      "outputs": [
        {
          "output_type": "stream",
          "name": "stdout",
          "text": [
            "+---+----------------+----------+---+-------+------------------+------------------+-----------------+\n",
            "| id|            name|       dob|age| salary|           log_age|         log10_age|         log2_age|\n",
            "+---+----------------+----------+---+-------+------------------+------------------+-----------------+\n",
            "|  1|        John Doe|2024-08-01| 23| 1000.5|3.1354942159291497|1.3617278360175928|4.523561956057013|\n",
            "|  2|      Jane Smith|2024-08-02| 34|2000.75|3.5263605246161616|1.5314789170422551| 5.08746284125034|\n",
            "|  3|      Jake White|2024-08-03| 18| 3000.1|2.8903717578961645| 1.255272505103306|4.169925001442312|\n",
            "|  4|      Jill Black|2024-08-04| 45|4000.25|3.8066624897703196|1.6532125137753437|5.491853096329675|\n",
            "|  5|     James Brown|2024-08-05| 29| 1500.3| 3.367295829986474| 1.462397997898956|4.857980995127573|\n",
            "|  6|AyushKumarMishra|2024-08-06| 23| 2500.1|3.1354942159291497|1.3617278360175928|4.523561956057013|\n",
            "+---+----------------+----------+---+-------+------------------+------------------+-----------------+\n",
            "\n"
          ]
        }
      ]
    },
    {
      "cell_type": "code",
      "source": [
        "#greatest, least\n",
        "from pyspark.sql.functions import greatest, least"
      ],
      "metadata": {
        "id": "DwM7nD4-d7Y6"
      },
      "execution_count": null,
      "outputs": []
    },
    {
      "cell_type": "code",
      "source": [
        "df_greatest_ayush = df_ayush.withColumn(\"greatest_value\", greatest(col(\"id\"), col(\"age\")))\n",
        "print(df_greatest_ayush.show())\n"
      ],
      "metadata": {
        "colab": {
          "base_uri": "https://localhost:8080/"
        },
        "id": "eYPt-BLTeHDm",
        "outputId": "7c23833a-c588-4637-d0ab-bb0f13067231"
      },
      "execution_count": null,
      "outputs": [
        {
          "output_type": "stream",
          "name": "stdout",
          "text": [
            "+---+----------------+----------+---+-------+--------------+\n",
            "| id|            name|       dob|age| salary|greatest_value|\n",
            "+---+----------------+----------+---+-------+--------------+\n",
            "|  1|        John Doe|2024-08-01| 23| 1000.5|            23|\n",
            "|  2|      Jane Smith|2024-08-02| 34|2000.75|            34|\n",
            "|  3|      Jake White|2024-08-03| 18| 3000.1|            18|\n",
            "|  4|      Jill Black|2024-08-04| 45|4000.25|            45|\n",
            "|  5|     James Brown|2024-08-05| 29| 1500.3|            29|\n",
            "|  6|AyushKumarMishra|2024-08-06| 23| 2500.1|            23|\n",
            "+---+----------------+----------+---+-------+--------------+\n",
            "\n",
            "None\n"
          ]
        }
      ]
    },
    {
      "cell_type": "code",
      "source": [
        "df_least_ayush = df_ayush.withColumn(\"least_value\", least(col(\"id\"), col(\"age\")))\n",
        "print(df_least_ayush.show())\n"
      ],
      "metadata": {
        "colab": {
          "base_uri": "https://localhost:8080/"
        },
        "id": "AhO_eNE8ebia",
        "outputId": "2c4a0afa-e464-4ef0-e7f9-a46eb0302598"
      },
      "execution_count": null,
      "outputs": [
        {
          "output_type": "stream",
          "name": "stdout",
          "text": [
            "+---+----------------+----------+---+-------+-----------+\n",
            "| id|            name|       dob|age| salary|least_value|\n",
            "+---+----------------+----------+---+-------+-----------+\n",
            "|  1|        John Doe|2024-08-01| 23| 1000.5|          1|\n",
            "|  2|      Jane Smith|2024-08-02| 34|2000.75|          2|\n",
            "|  3|      Jake White|2024-08-03| 18| 3000.1|          3|\n",
            "|  4|      Jill Black|2024-08-04| 45|4000.25|          4|\n",
            "|  5|     James Brown|2024-08-05| 29| 1500.3|          5|\n",
            "|  6|AyushKumarMishra|2024-08-06| 23| 2500.1|          6|\n",
            "+---+----------------+----------+---+-------+-----------+\n",
            "\n",
            "None\n"
          ]
        }
      ]
    },
    {
      "cell_type": "code",
      "source": [
        "#pow\n",
        "from pyspark.sql.functions import pow"
      ],
      "metadata": {
        "id": "CJYItDYreiUS"
      },
      "execution_count": null,
      "outputs": []
    },
    {
      "cell_type": "code",
      "source": [
        "df_pow_ayush = df_ayush.withColumn(\"pow_result\", pow(col(\"id\"), col(\"age\")))"
      ],
      "metadata": {
        "id": "SwpD-r6ret6B"
      },
      "execution_count": null,
      "outputs": []
    },
    {
      "cell_type": "code",
      "source": [
        "df_pow_ayush.show(truncate=False)"
      ],
      "metadata": {
        "colab": {
          "base_uri": "https://localhost:8080/"
        },
        "id": "_9_KzssjexfJ",
        "outputId": "c0073b46-b41d-4246-fd87-cc9bb85493e2"
      },
      "execution_count": null,
      "outputs": [
        {
          "output_type": "stream",
          "name": "stdout",
          "text": [
            "+---+----------------+----------+---+-------+---------------------+\n",
            "|id |name            |dob       |age|salary |pow_result           |\n",
            "+---+----------------+----------+---+-------+---------------------+\n",
            "|1  |John Doe        |2024-08-01|23 |1000.5 |1.0                  |\n",
            "|2  |Jane Smith      |2024-08-02|34 |2000.75|1.7179869184E10      |\n",
            "|3  |Jake White      |2024-08-03|18 |3000.1 |3.87420489E8         |\n",
            "|4  |Jill Black      |2024-08-04|45 |4000.25|1.2379400392853803E27|\n",
            "|5  |James Brown     |2024-08-05|29 |1500.3 |1.8626451492309572E20|\n",
            "|6  |AyushKumarMishra|2024-08-06|23 |2500.1 |7.8973022305360282E17|\n",
            "+---+----------------+----------+---+-------+---------------------+\n",
            "\n"
          ]
        }
      ]
    },
    {
      "cell_type": "code",
      "source": [
        "#round, bround\n",
        "from pyspark.sql.functions import round, bround"
      ],
      "metadata": {
        "id": "EVM0vtRje0Ei"
      },
      "execution_count": null,
      "outputs": []
    },
    {
      "cell_type": "code",
      "source": [
        "df_round_ayush = df_ayush.withColumn(\"rounded_salary\", round(col(\"salary\"), 0))\n",
        "print(df_round_ayush.show())"
      ],
      "metadata": {
        "colab": {
          "base_uri": "https://localhost:8080/"
        },
        "id": "0hHpOdIHe9vq",
        "outputId": "810684fa-3d9a-4ab6-85f6-fe347f951839"
      },
      "execution_count": null,
      "outputs": [
        {
          "output_type": "stream",
          "name": "stdout",
          "text": [
            "+---+----------------+----------+---+-------+--------------+\n",
            "| id|            name|       dob|age| salary|rounded_salary|\n",
            "+---+----------------+----------+---+-------+--------------+\n",
            "|  1|        John Doe|2024-08-01| 23| 1000.5|        1001.0|\n",
            "|  2|      Jane Smith|2024-08-02| 34|2000.75|        2001.0|\n",
            "|  3|      Jake White|2024-08-03| 18| 3000.1|        3000.0|\n",
            "|  4|      Jill Black|2024-08-04| 45|4000.25|        4000.0|\n",
            "|  5|     James Brown|2024-08-05| 29| 1500.3|        1500.0|\n",
            "|  6|AyushKumarMishra|2024-08-06| 23| 2500.1|        2500.0|\n",
            "+---+----------------+----------+---+-------+--------------+\n",
            "\n",
            "None\n"
          ]
        }
      ]
    },
    {
      "cell_type": "code",
      "source": [
        "df_bround_ayush = df_ayush.withColumn(\"brounded_salary\", bround(col(\"salary\"), 0))\n",
        "print(df_bround_ayush.show())"
      ],
      "metadata": {
        "colab": {
          "base_uri": "https://localhost:8080/"
        },
        "id": "cn_l89QVfQ8R",
        "outputId": "422e6723-2ab8-4a6a-f57c-35618aff1cf8"
      },
      "execution_count": null,
      "outputs": [
        {
          "output_type": "stream",
          "name": "stdout",
          "text": [
            "+---+----------------+----------+---+-------+---------------+\n",
            "| id|            name|       dob|age| salary|brounded_salary|\n",
            "+---+----------------+----------+---+-------+---------------+\n",
            "|  1|        John Doe|2024-08-01| 23| 1000.5|         1000.0|\n",
            "|  2|      Jane Smith|2024-08-02| 34|2000.75|         2001.0|\n",
            "|  3|      Jake White|2024-08-03| 18| 3000.1|         3000.0|\n",
            "|  4|      Jill Black|2024-08-04| 45|4000.25|         4000.0|\n",
            "|  5|     James Brown|2024-08-05| 29| 1500.3|         1500.0|\n",
            "|  6|AyushKumarMishra|2024-08-06| 23| 2500.1|         2500.0|\n",
            "+---+----------------+----------+---+-------+---------------+\n",
            "\n",
            "None\n"
          ]
        }
      ]
    },
    {
      "cell_type": "code",
      "source": [
        "#degrees, radians\n",
        "from pyspark.sql.functions import degrees, radians"
      ],
      "metadata": {
        "id": "C736wdZkfW6y"
      },
      "execution_count": null,
      "outputs": []
    },
    {
      "cell_type": "code",
      "source": [
        "df_degrees_ayush = df_ayush.withColumn(\"degrees_value\", degrees(col(\"age\")))\n",
        "print(df_degrees_ayush.show())"
      ],
      "metadata": {
        "colab": {
          "base_uri": "https://localhost:8080/"
        },
        "id": "hcGLpQg4f6f5",
        "outputId": "0d9996a6-04f1-4531-aed7-af9634767e4a"
      },
      "execution_count": null,
      "outputs": [
        {
          "output_type": "stream",
          "name": "stdout",
          "text": [
            "+---+----------------+----------+---+-------+------------------+\n",
            "| id|            name|       dob|age| salary|     degrees_value|\n",
            "+---+----------------+----------+---+-------+------------------+\n",
            "|  1|        John Doe|2024-08-01| 23| 1000.5|1317.8029288008934|\n",
            "|  2|      Jane Smith|2024-08-02| 34|2000.75| 1948.056503444799|\n",
            "|  3|      Jake White|2024-08-03| 18| 3000.1| 1031.324031235482|\n",
            "|  4|      Jill Black|2024-08-04| 45|4000.25|2578.3100780887044|\n",
            "|  5|     James Brown|2024-08-05| 29| 1500.3|1661.5776058793874|\n",
            "|  6|AyushKumarMishra|2024-08-06| 23| 2500.1|1317.8029288008934|\n",
            "+---+----------------+----------+---+-------+------------------+\n",
            "\n",
            "None\n"
          ]
        }
      ]
    },
    {
      "cell_type": "code",
      "source": [
        "df_radians_ayush = df_ayush.withColumn(\"radians_value\", radians(col(\"age\")))\n",
        "print(df_radians_ayush.show())"
      ],
      "metadata": {
        "colab": {
          "base_uri": "https://localhost:8080/"
        },
        "id": "v7y2EufJgBDy",
        "outputId": "d2fc69ef-da6e-4ed8-d994-97e8e936fc34"
      },
      "execution_count": null,
      "outputs": [
        {
          "output_type": "stream",
          "name": "stdout",
          "text": [
            "+---+----------------+----------+---+-------+------------------+\n",
            "| id|            name|       dob|age| salary|     radians_value|\n",
            "+---+----------------+----------+---+-------+------------------+\n",
            "|  1|        John Doe|2024-08-01| 23| 1000.5|0.4014257279586958|\n",
            "|  2|      Jane Smith|2024-08-02| 34|2000.75|0.5934119456780721|\n",
            "|  3|      Jake White|2024-08-03| 18| 3000.1|0.3141592653589793|\n",
            "|  4|      Jill Black|2024-08-04| 45|4000.25|0.7853981633974483|\n",
            "|  5|     James Brown|2024-08-05| 29| 1500.3|0.5061454830783556|\n",
            "|  6|AyushKumarMishra|2024-08-06| 23| 2500.1|0.4014257279586958|\n",
            "+---+----------------+----------+---+-------+------------------+\n",
            "\n",
            "None\n"
          ]
        }
      ]
    },
    {
      "cell_type": "code",
      "source": [
        "#signum\n",
        "from pyspark.sql.functions import signum"
      ],
      "metadata": {
        "id": "NXLuItvTgHWi"
      },
      "execution_count": null,
      "outputs": []
    },
    {
      "cell_type": "code",
      "source": [
        "df_signum_ayush = df_ayush.withColumn(\"signum_value\", signum(col(\"age\")))\n",
        "df_signum_ayush.show()"
      ],
      "metadata": {
        "colab": {
          "base_uri": "https://localhost:8080/"
        },
        "id": "OlIabmdrlaps",
        "outputId": "907b84a1-4721-4e79-dcbf-e0a293e96517"
      },
      "execution_count": null,
      "outputs": [
        {
          "output_type": "stream",
          "name": "stdout",
          "text": [
            "+---+----------------+----------+---+-------+------------+\n",
            "| id|            name|       dob|age| salary|signum_value|\n",
            "+---+----------------+----------+---+-------+------------+\n",
            "|  1|        John Doe|2024-08-01| 23| 1000.5|         1.0|\n",
            "|  2|      Jane Smith|2024-08-02| 34|2000.75|         1.0|\n",
            "|  3|      Jake White|2024-08-03| 18| 3000.1|         1.0|\n",
            "|  4|      Jill Black|2024-08-04| 45|4000.25|         1.0|\n",
            "|  5|     James Brown|2024-08-05| 29| 1500.3|         1.0|\n",
            "|  6|AyushKumarMishra|2024-08-06| 23| 2500.1|         1.0|\n",
            "+---+----------------+----------+---+-------+------------+\n",
            "\n"
          ]
        }
      ]
    },
    {
      "cell_type": "code",
      "source": [
        "#hex, unhex\n",
        "from pyspark.sql.functions import hex, unhex"
      ],
      "metadata": {
        "id": "igI4yHpqlhL0"
      },
      "execution_count": null,
      "outputs": []
    },
    {
      "cell_type": "code",
      "source": [
        "df_all_ayush= df_ayush.withColumn(\"hex_name\", hex(col(\"id\"))).withColumn(\"unhex_name\", unhex(hex(col(\"id\"))))\n",
        "df_all_ayush.show()"
      ],
      "metadata": {
        "colab": {
          "base_uri": "https://localhost:8080/"
        },
        "id": "tldJxEDkllgU",
        "outputId": "70b111f1-bbf5-4d66-d75b-54c5816ca277"
      },
      "execution_count": null,
      "outputs": [
        {
          "output_type": "stream",
          "name": "stdout",
          "text": [
            "+---+----------------+----------+---+-------+--------+----------+\n",
            "| id|            name|       dob|age| salary|hex_name|unhex_name|\n",
            "+---+----------------+----------+---+-------+--------+----------+\n",
            "|  1|        John Doe|2024-08-01| 23| 1000.5|       1|      [01]|\n",
            "|  2|      Jane Smith|2024-08-02| 34|2000.75|       2|      [02]|\n",
            "|  3|      Jake White|2024-08-03| 18| 3000.1|       3|      [03]|\n",
            "|  4|      Jill Black|2024-08-04| 45|4000.25|       4|      [04]|\n",
            "|  5|     James Brown|2024-08-05| 29| 1500.3|       5|      [05]|\n",
            "|  6|AyushKumarMishra|2024-08-06| 23| 2500.1|       6|      [06]|\n",
            "+---+----------------+----------+---+-------+--------+----------+\n",
            "\n"
          ]
        }
      ]
    },
    {
      "cell_type": "code",
      "source": [
        "#nvl, nvl2, col\n",
        "from pyspark.sql.functions import nvl, nvl2, col"
      ],
      "metadata": {
        "id": "TdKyzK0Wlrf0"
      },
      "execution_count": null,
      "outputs": []
    },
    {
      "cell_type": "code",
      "source": [
        "df_nvl_ayush = df_ayush.withColumn(\"nvl_age\", nvl(col(\"age\"), col(\"id\")))\n",
        "print(df_nvl_ayush.show())\n"
      ],
      "metadata": {
        "colab": {
          "base_uri": "https://localhost:8080/"
        },
        "id": "luj8USrOluws",
        "outputId": "02a5f367-d684-466c-d925-871ff27e99c6"
      },
      "execution_count": null,
      "outputs": [
        {
          "output_type": "stream",
          "name": "stdout",
          "text": [
            "+---+----------------+----------+---+-------+-------+\n",
            "| id|            name|       dob|age| salary|nvl_age|\n",
            "+---+----------------+----------+---+-------+-------+\n",
            "|  1|        John Doe|2024-08-01| 23| 1000.5|     23|\n",
            "|  2|      Jane Smith|2024-08-02| 34|2000.75|     34|\n",
            "|  3|      Jake White|2024-08-03| 18| 3000.1|     18|\n",
            "|  4|      Jill Black|2024-08-04| 45|4000.25|     45|\n",
            "|  5|     James Brown|2024-08-05| 29| 1500.3|     29|\n",
            "|  6|AyushKumarMishra|2024-08-06| 23| 2500.1|     23|\n",
            "+---+----------------+----------+---+-------+-------+\n",
            "\n",
            "None\n"
          ]
        }
      ]
    },
    {
      "cell_type": "code",
      "source": [
        "df_nvl2_ayush = df_ayush.withColumn(\"nvl2_age\", nvl2(col(\"age\"), col(\"id\"), col(\"salary\")))\n",
        "print(df_nvl2_ayush.show())\n"
      ],
      "metadata": {
        "colab": {
          "base_uri": "https://localhost:8080/"
        },
        "id": "0Q7MI7HplzUM",
        "outputId": "34789574-bbc1-49c5-bcc0-f1793438b509"
      },
      "execution_count": null,
      "outputs": [
        {
          "output_type": "stream",
          "name": "stdout",
          "text": [
            "+---+----------------+----------+---+-------+--------+\n",
            "| id|            name|       dob|age| salary|nvl2_age|\n",
            "+---+----------------+----------+---+-------+--------+\n",
            "|  1|        John Doe|2024-08-01| 23| 1000.5|     1.0|\n",
            "|  2|      Jane Smith|2024-08-02| 34|2000.75|     2.0|\n",
            "|  3|      Jake White|2024-08-03| 18| 3000.1|     3.0|\n",
            "|  4|      Jill Black|2024-08-04| 45|4000.25|     4.0|\n",
            "|  5|     James Brown|2024-08-05| 29| 1500.3|     5.0|\n",
            "|  6|AyushKumarMishra|2024-08-06| 23| 2500.1|     6.0|\n",
            "+---+----------------+----------+---+-------+--------+\n",
            "\n",
            "None\n"
          ]
        }
      ]
    },
    {
      "cell_type": "code",
      "source": [
        "#reverse\n",
        "from pyspark.sql.functions import reverse"
      ],
      "metadata": {
        "id": "vbrNDVCGl3CM"
      },
      "execution_count": null,
      "outputs": []
    },
    {
      "cell_type": "code",
      "source": [
        "df_reverse_ayush = df_ayush.withColumn(\"reversed_name\", reverse(col(\"name\")))\n",
        "df_reverse_ayush.show()"
      ],
      "metadata": {
        "colab": {
          "base_uri": "https://localhost:8080/"
        },
        "id": "ULFEsJkAmBFc",
        "outputId": "c5432e40-e7ab-42f8-8530-56ab09a7f794"
      },
      "execution_count": null,
      "outputs": [
        {
          "output_type": "stream",
          "name": "stdout",
          "text": [
            "+---+----------------+----------+---+-------+----------------+\n",
            "| id|            name|       dob|age| salary|   reversed_name|\n",
            "+---+----------------+----------+---+-------+----------------+\n",
            "|  1|        John Doe|2024-08-01| 23| 1000.5|        eoD nhoJ|\n",
            "|  2|      Jane Smith|2024-08-02| 34|2000.75|      htimS enaJ|\n",
            "|  3|      Jake White|2024-08-03| 18| 3000.1|      etihW ekaJ|\n",
            "|  4|      Jill Black|2024-08-04| 45|4000.25|      kcalB lliJ|\n",
            "|  5|     James Brown|2024-08-05| 29| 1500.3|     nworB semaJ|\n",
            "|  6|AyushKumarMishra|2024-08-06| 23| 2500.1|arhsiMramuKhsuyA|\n",
            "+---+----------------+----------+---+-------+----------------+\n",
            "\n"
          ]
        }
      ]
    },
    {
      "cell_type": "code",
      "source": [
        "#initcap\n",
        "from pyspark.sql.functions import initcap"
      ],
      "metadata": {
        "id": "IGFWZ8udmFzs"
      },
      "execution_count": null,
      "outputs": []
    },
    {
      "cell_type": "code",
      "source": [
        "df_initcap_ayush = df_ayush.withColumn(\"capitalized_name\", initcap(col(\"name\")))\n",
        "df_initcap_ayush.show()"
      ],
      "metadata": {
        "colab": {
          "base_uri": "https://localhost:8080/"
        },
        "id": "hDPceCyKmKwU",
        "outputId": "d1b27731-236e-40ba-b2aa-ec92796ab80d"
      },
      "execution_count": null,
      "outputs": [
        {
          "output_type": "stream",
          "name": "stdout",
          "text": [
            "+---+----------------+----------+---+-------+----------------+\n",
            "| id|            name|       dob|age| salary|capitalized_name|\n",
            "+---+----------------+----------+---+-------+----------------+\n",
            "|  1|        John Doe|2024-08-01| 23| 1000.5|        John Doe|\n",
            "|  2|      Jane Smith|2024-08-02| 34|2000.75|      Jane Smith|\n",
            "|  3|      Jake White|2024-08-03| 18| 3000.1|      Jake White|\n",
            "|  4|      Jill Black|2024-08-04| 45|4000.25|      Jill Black|\n",
            "|  5|     James Brown|2024-08-05| 29| 1500.3|     James Brown|\n",
            "|  6|AyushKumarMishra|2024-08-06| 23| 2500.1|Ayushkumarmishra|\n",
            "+---+----------------+----------+---+-------+----------------+\n",
            "\n"
          ]
        }
      ]
    },
    {
      "cell_type": "code",
      "source": [
        "#instr\n",
        "from pyspark.sql.functions import instr"
      ],
      "metadata": {
        "id": "K8NTCWWtmO0s"
      },
      "execution_count": null,
      "outputs": []
    },
    {
      "cell_type": "code",
      "source": [
        "df_instr_ayush = df_ayush.withColumn(\"position_of_a\", instr(col(\"name\"), \"a\"))\n",
        "print(df_instr_ayush.show())\n",
        "print(df_instr_ayush.printSchema())"
      ],
      "metadata": {
        "colab": {
          "base_uri": "https://localhost:8080/"
        },
        "id": "qG4zOadsmV_v",
        "outputId": "4de8b0da-5b70-4742-d316-fb707fa4de92"
      },
      "execution_count": null,
      "outputs": [
        {
          "output_type": "stream",
          "name": "stdout",
          "text": [
            "+---+----------------+----------+---+-------+-------------+\n",
            "| id|            name|       dob|age| salary|position_of_a|\n",
            "+---+----------------+----------+---+-------+-------------+\n",
            "|  1|        John Doe|2024-08-01| 23| 1000.5|            0|\n",
            "|  2|      Jane Smith|2024-08-02| 34|2000.75|            2|\n",
            "|  3|      Jake White|2024-08-03| 18| 3000.1|            2|\n",
            "|  4|      Jill Black|2024-08-04| 45|4000.25|            8|\n",
            "|  5|     James Brown|2024-08-05| 29| 1500.3|            2|\n",
            "|  6|AyushKumarMishra|2024-08-06| 23| 2500.1|            9|\n",
            "+---+----------------+----------+---+-------+-------------+\n",
            "\n",
            "None\n",
            "root\n",
            " |-- id: long (nullable = true)\n",
            " |-- name: string (nullable = true)\n",
            " |-- dob: string (nullable = true)\n",
            " |-- age: long (nullable = true)\n",
            " |-- salary: double (nullable = true)\n",
            " |-- position_of_a: integer (nullable = true)\n",
            "\n",
            "None\n"
          ]
        }
      ]
    },
    {
      "cell_type": "code",
      "source": [
        "#locate\n",
        "from pyspark.sql.functions import locate"
      ],
      "metadata": {
        "id": "QCr0SMYcmcST"
      },
      "execution_count": null,
      "outputs": []
    },
    {
      "cell_type": "code",
      "source": [
        "df_locate_ayush = df_ayush.withColumn(\"locate_doe\", locate(\"Doe\", col(\"name\")))\n",
        "df_locate_ayush.show()"
      ],
      "metadata": {
        "colab": {
          "base_uri": "https://localhost:8080/"
        },
        "id": "ggTAWEjJmj2k",
        "outputId": "da39b97c-6169-48ab-f169-486710c4dccf"
      },
      "execution_count": null,
      "outputs": [
        {
          "output_type": "stream",
          "name": "stdout",
          "text": [
            "+---+----------------+----------+---+-------+----------+\n",
            "| id|            name|       dob|age| salary|locate_doe|\n",
            "+---+----------------+----------+---+-------+----------+\n",
            "|  1|        John Doe|2024-08-01| 23| 1000.5|         6|\n",
            "|  2|      Jane Smith|2024-08-02| 34|2000.75|         0|\n",
            "|  3|      Jake White|2024-08-03| 18| 3000.1|         0|\n",
            "|  4|      Jill Black|2024-08-04| 45|4000.25|         0|\n",
            "|  5|     James Brown|2024-08-05| 29| 1500.3|         0|\n",
            "|  6|AyushKumarMishra|2024-08-06| 23| 2500.1|         0|\n",
            "+---+----------------+----------+---+-------+----------+\n",
            "\n"
          ]
        }
      ]
    },
    {
      "cell_type": "code",
      "source": [
        "#soundex\n",
        "from pyspark.sql.functions import soundex"
      ],
      "metadata": {
        "id": "MqMzv9BImowz"
      },
      "execution_count": null,
      "outputs": []
    },
    {
      "cell_type": "code",
      "source": [
        "df_soundex_ayush= df_ayush.withColumn(\"soundex_name\", soundex(col(\"name\")))\n",
        "df_soundex_ayush.show()"
      ],
      "metadata": {
        "colab": {
          "base_uri": "https://localhost:8080/"
        },
        "id": "q4NsJn9qmrjs",
        "outputId": "1746d860-ba25-4a6b-c151-87be5c7135cd"
      },
      "execution_count": null,
      "outputs": [
        {
          "output_type": "stream",
          "name": "stdout",
          "text": [
            "+---+----------------+----------+---+-------+------------+\n",
            "| id|            name|       dob|age| salary|soundex_name|\n",
            "+---+----------------+----------+---+-------+------------+\n",
            "|  1|        John Doe|2024-08-01| 23| 1000.5|        J530|\n",
            "|  2|      Jane Smith|2024-08-02| 34|2000.75|        J525|\n",
            "|  3|      Jake White|2024-08-03| 18| 3000.1|        J230|\n",
            "|  4|      Jill Black|2024-08-04| 45|4000.25|        J414|\n",
            "|  5|     James Brown|2024-08-05| 29| 1500.3|        J521|\n",
            "|  6|AyushKumarMishra|2024-08-06| 23| 2500.1|        A256|\n",
            "+---+----------------+----------+---+-------+------------+\n",
            "\n"
          ]
        }
      ]
    },
    {
      "cell_type": "code",
      "source": [
        "#levenshtein\n",
        "from pyspark.sql.functions import levenshtein"
      ],
      "metadata": {
        "id": "CENE2erTmvYj"
      },
      "execution_count": null,
      "outputs": []
    },
    {
      "cell_type": "code",
      "source": [
        "df_levenshtein_ayush = df_ayush.withColumn(\"levenshtein_distance\", levenshtein(col(\"name\"), lit(\"Jon Doe\")))\n",
        "df_levenshtein_ayush.show()"
      ],
      "metadata": {
        "colab": {
          "base_uri": "https://localhost:8080/"
        },
        "id": "BUkMn-1cmyWr",
        "outputId": "f608c22a-56b3-498e-bbc8-72c42082e217"
      },
      "execution_count": null,
      "outputs": [
        {
          "output_type": "stream",
          "name": "stdout",
          "text": [
            "+---+----------------+----------+---+-------+--------------------+\n",
            "| id|            name|       dob|age| salary|levenshtein_distance|\n",
            "+---+----------------+----------+---+-------+--------------------+\n",
            "|  1|        John Doe|2024-08-01| 23| 1000.5|                   1|\n",
            "|  2|      Jane Smith|2024-08-02| 34|2000.75|                   7|\n",
            "|  3|      Jake White|2024-08-03| 18| 3000.1|                   7|\n",
            "|  4|      Jill Black|2024-08-04| 45|4000.25|                   8|\n",
            "|  5|     James Brown|2024-08-05| 29| 1500.3|                   8|\n",
            "|  6|AyushKumarMishra|2024-08-06| 23| 2500.1|                  16|\n",
            "+---+----------------+----------+---+-------+--------------------+\n",
            "\n"
          ]
        }
      ]
    },
    {
      "cell_type": "code",
      "source": [
        "#conv\n",
        "from pyspark.sql.functions import conv"
      ],
      "metadata": {
        "id": "706EzOyOm03j"
      },
      "execution_count": null,
      "outputs": []
    },
    {
      "cell_type": "code",
      "source": [
        "df_conv_ayush = df_ayush.withColumn(\"binary_value\", conv(col(\"id\"), 10, 2))\n",
        "df_conv_ayush.show()"
      ],
      "metadata": {
        "colab": {
          "base_uri": "https://localhost:8080/"
        },
        "id": "JYAuFi5Nm8Tz",
        "outputId": "c067abc1-92f9-4747-920d-666235e25785"
      },
      "execution_count": null,
      "outputs": [
        {
          "output_type": "stream",
          "name": "stdout",
          "text": [
            "+---+----------------+----------+---+-------+------------+\n",
            "| id|            name|       dob|age| salary|binary_value|\n",
            "+---+----------------+----------+---+-------+------------+\n",
            "|  1|        John Doe|2024-08-01| 23| 1000.5|           1|\n",
            "|  2|      Jane Smith|2024-08-02| 34|2000.75|          10|\n",
            "|  3|      Jake White|2024-08-03| 18| 3000.1|          11|\n",
            "|  4|      Jill Black|2024-08-04| 45|4000.25|         100|\n",
            "|  5|     James Brown|2024-08-05| 29| 1500.3|         101|\n",
            "|  6|AyushKumarMishra|2024-08-06| 23| 2500.1|         110|\n",
            "+---+----------------+----------+---+-------+------------+\n",
            "\n"
          ]
        }
      ]
    },
    {
      "cell_type": "code",
      "source": [
        "#translate\n",
        "from pyspark.sql.functions import translate"
      ],
      "metadata": {
        "id": "LhtRZ5lHnAUc"
      },
      "execution_count": null,
      "outputs": []
    },
    {
      "cell_type": "code",
      "source": [
        "df_translate_ayush = df_ayush.withColumn(\"translated_name\", translate(col(\"name\"), \"o\", \"a\"))\n",
        "df_translate_ayush.show()"
      ],
      "metadata": {
        "colab": {
          "base_uri": "https://localhost:8080/"
        },
        "id": "KdbN8Zv9nEws",
        "outputId": "e0117563-e1d4-44b2-9f48-92382fd8b472"
      },
      "execution_count": null,
      "outputs": [
        {
          "output_type": "stream",
          "name": "stdout",
          "text": [
            "+---+----------------+----------+---+-------+----------------+\n",
            "| id|            name|       dob|age| salary| translated_name|\n",
            "+---+----------------+----------+---+-------+----------------+\n",
            "|  1|        John Doe|2024-08-01| 23| 1000.5|        Jahn Dae|\n",
            "|  2|      Jane Smith|2024-08-02| 34|2000.75|      Jane Smith|\n",
            "|  3|      Jake White|2024-08-03| 18| 3000.1|      Jake White|\n",
            "|  4|      Jill Black|2024-08-04| 45|4000.25|      Jill Black|\n",
            "|  5|     James Brown|2024-08-05| 29| 1500.3|     James Brawn|\n",
            "|  6|AyushKumarMishra|2024-08-06| 23| 2500.1|AyushKumarMishra|\n",
            "+---+----------------+----------+---+-------+----------------+\n",
            "\n"
          ]
        }
      ]
    },
    {
      "cell_type": "code",
      "source": [
        "#crc32\n",
        "from pyspark.sql.functions import crc32"
      ],
      "metadata": {
        "id": "n8-Q1WiAnJKk"
      },
      "execution_count": null,
      "outputs": []
    },
    {
      "cell_type": "code",
      "source": [
        "df_crc32_ayush= df_ayush.withColumn(\"crc32_name\", crc32(col(\"name\")))\n",
        "df_crc32_ayush.show()"
      ],
      "metadata": {
        "colab": {
          "base_uri": "https://localhost:8080/"
        },
        "id": "ML6TPhcRnLy0",
        "outputId": "7440e782-d297-487b-b944-f4cd8d30ec80"
      },
      "execution_count": null,
      "outputs": [
        {
          "output_type": "stream",
          "name": "stdout",
          "text": [
            "+---+----------------+----------+---+-------+----------+\n",
            "| id|            name|       dob|age| salary|crc32_name|\n",
            "+---+----------------+----------+---+-------+----------+\n",
            "|  1|        John Doe|2024-08-01| 23| 1000.5|1782059462|\n",
            "|  2|      Jane Smith|2024-08-02| 34|2000.75|3280634359|\n",
            "|  3|      Jake White|2024-08-03| 18| 3000.1| 931505628|\n",
            "|  4|      Jill Black|2024-08-04| 45|4000.25|3628743810|\n",
            "|  5|     James Brown|2024-08-05| 29| 1500.3|3837056040|\n",
            "|  6|AyushKumarMishra|2024-08-06| 23| 2500.1|1269445140|\n",
            "+---+----------------+----------+---+-------+----------+\n",
            "\n"
          ]
        }
      ]
    },
    {
      "cell_type": "code",
      "source": [
        "#expr\n",
        "from pyspark.sql.functions import expr"
      ],
      "metadata": {
        "id": "6PmrIskanQh8"
      },
      "execution_count": null,
      "outputs": []
    },
    {
      "cell_type": "code",
      "source": [
        "df_uuid_ayush = df_ayush.withColumn(\"uuid\", expr(\"uuid()\"))"
      ],
      "metadata": {
        "id": "pb5BeUuMnT1s"
      },
      "execution_count": null,
      "outputs": []
    },
    {
      "cell_type": "code",
      "source": [
        "df_uuid_ayush.show(truncate = False)"
      ],
      "metadata": {
        "colab": {
          "base_uri": "https://localhost:8080/"
        },
        "id": "4oCaqiYmnZi0",
        "outputId": "7bc228b6-e3bf-4162-899f-e0fbcd18ec57"
      },
      "execution_count": null,
      "outputs": [
        {
          "output_type": "stream",
          "name": "stdout",
          "text": [
            "+---+----------------+----------+---+-------+------------------------------------+\n",
            "|id |name            |dob       |age|salary |uuid                                |\n",
            "+---+----------------+----------+---+-------+------------------------------------+\n",
            "|1  |John Doe        |2024-08-01|23 |1000.5 |33536b03-092d-42dd-ae15-2287a6cf3795|\n",
            "|2  |Jane Smith      |2024-08-02|34 |2000.75|5e7a1284-53c2-422e-be47-60dc1614b099|\n",
            "|3  |Jake White      |2024-08-03|18 |3000.1 |a214c2c3-1239-4df0-a0a0-a0b170f6eb46|\n",
            "|4  |Jill Black      |2024-08-04|45 |4000.25|3306005a-582c-408c-9bdd-7772f1bcd29a|\n",
            "|5  |James Brown     |2024-08-05|29 |1500.3 |52596802-26e4-45f6-b0ea-46b4094006d5|\n",
            "|6  |AyushKumarMishra|2024-08-06|23 |2500.1 |0d71de2b-2718-432e-b3d9-d017051eb0b0|\n",
            "+---+----------------+----------+---+-------+------------------------------------+\n",
            "\n"
          ]
        }
      ]
    },
    {
      "cell_type": "code",
      "source": [
        "#percent_rank\n",
        "from pyspark.sql.functions import percent_rank"
      ],
      "metadata": {
        "id": "Q90FwxSWnfjz"
      },
      "execution_count": null,
      "outputs": []
    },
    {
      "cell_type": "code",
      "source": [
        "windowSpec_ayush = Window.orderBy(col(\"salary\").desc())"
      ],
      "metadata": {
        "id": "-5aSA4EEnlwZ"
      },
      "execution_count": null,
      "outputs": []
    },
    {
      "cell_type": "code",
      "source": [
        "df_percent_rank_ayush = df_ayush.withColumn(\"percent_rank\", percent_rank().over(windowSpec_ayush))\n",
        "df_percent_rank_ayush.show()"
      ],
      "metadata": {
        "colab": {
          "base_uri": "https://localhost:8080/"
        },
        "id": "CZ1mMTrUnp0L",
        "outputId": "2bc2bcde-48e8-4173-bfa6-8f84b150adf8"
      },
      "execution_count": null,
      "outputs": [
        {
          "output_type": "stream",
          "name": "stdout",
          "text": [
            "+---+----------------+----------+---+-------+------------+\n",
            "| id|            name|       dob|age| salary|percent_rank|\n",
            "+---+----------------+----------+---+-------+------------+\n",
            "|  4|      Jill Black|2024-08-04| 45|4000.25|         0.0|\n",
            "|  3|      Jake White|2024-08-03| 18| 3000.1|         0.2|\n",
            "|  6|AyushKumarMishra|2024-08-06| 23| 2500.1|         0.4|\n",
            "|  2|      Jane Smith|2024-08-02| 34|2000.75|         0.6|\n",
            "|  5|     James Brown|2024-08-05| 29| 1500.3|         0.8|\n",
            "|  1|        John Doe|2024-08-01| 23| 1000.5|         1.0|\n",
            "+---+----------------+----------+---+-------+------------+\n",
            "\n"
          ]
        }
      ]
    },
    {
      "cell_type": "code",
      "source": [
        "#cume_dist\n",
        "from pyspark.sql.functions import cume_dist"
      ],
      "metadata": {
        "id": "0qHcI8N3nw4b"
      },
      "execution_count": null,
      "outputs": []
    },
    {
      "cell_type": "code",
      "source": [
        "df_cume_dist_ayush = df_ayush.withColumn(\"cume_dist\", cume_dist().over(windowSpec_ayush))\n",
        "df_cume_dist_ayush.show()\n"
      ],
      "metadata": {
        "colab": {
          "base_uri": "https://localhost:8080/"
        },
        "id": "t1X9JAt4n3oT",
        "outputId": "de8289d2-cc7d-45d4-a78b-605ef3cbc347"
      },
      "execution_count": null,
      "outputs": [
        {
          "output_type": "stream",
          "name": "stdout",
          "text": [
            "+---+----------------+----------+---+-------+-------------------+\n",
            "| id|            name|       dob|age| salary|          cume_dist|\n",
            "+---+----------------+----------+---+-------+-------------------+\n",
            "|  4|      Jill Black|2024-08-04| 45|4000.25|0.16666666666666666|\n",
            "|  3|      Jake White|2024-08-03| 18| 3000.1| 0.3333333333333333|\n",
            "|  6|AyushKumarMishra|2024-08-06| 23| 2500.1|                0.5|\n",
            "|  2|      Jane Smith|2024-08-02| 34|2000.75| 0.6666666666666666|\n",
            "|  5|     James Brown|2024-08-05| 29| 1500.3| 0.8333333333333334|\n",
            "|  1|        John Doe|2024-08-01| 23| 1000.5|                1.0|\n",
            "+---+----------------+----------+---+-------+-------------------+\n",
            "\n"
          ]
        }
      ]
    },
    {
      "cell_type": "code",
      "source": [
        "#ntile\n",
        "from pyspark.sql.functions import ntile"
      ],
      "metadata": {
        "id": "H1VjUm6Cn8KM"
      },
      "execution_count": null,
      "outputs": []
    },
    {
      "cell_type": "code",
      "source": [
        "df_ntile_ayush = df_ayush.withColumn(\"ntile\", ntile(3).over(windowSpec_ayush))\n",
        "df_ntile_ayush.show()"
      ],
      "metadata": {
        "colab": {
          "base_uri": "https://localhost:8080/"
        },
        "id": "EEJwZM07oBr7",
        "outputId": "6b40c940-caf1-482b-ee3a-56c42320961f"
      },
      "execution_count": null,
      "outputs": [
        {
          "output_type": "stream",
          "name": "stdout",
          "text": [
            "+---+----------------+----------+---+-------+-----+\n",
            "| id|            name|       dob|age| salary|ntile|\n",
            "+---+----------------+----------+---+-------+-----+\n",
            "|  4|      Jill Black|2024-08-04| 45|4000.25|    1|\n",
            "|  3|      Jake White|2024-08-03| 18| 3000.1|    1|\n",
            "|  6|AyushKumarMishra|2024-08-06| 23| 2500.1|    2|\n",
            "|  2|      Jane Smith|2024-08-02| 34|2000.75|    2|\n",
            "|  5|     James Brown|2024-08-05| 29| 1500.3|    3|\n",
            "|  1|        John Doe|2024-08-01| 23| 1000.5|    3|\n",
            "+---+----------------+----------+---+-------+-----+\n",
            "\n"
          ]
        }
      ]
    },
    {
      "cell_type": "code",
      "source": [
        "# flatten\n",
        "from pyspark.sql.functions import flatten"
      ],
      "metadata": {
        "id": "RDZ8pxhfoHV7"
      },
      "execution_count": null,
      "outputs": []
    },
    {
      "cell_type": "code",
      "source": [
        "df_flatten_ayush = df_ayush.withColumn(\"flattened_array\", flatten(array(array(lit(1), lit(2)), array(lit(3)))))\n",
        "df_flatten_ayush.show()"
      ],
      "metadata": {
        "colab": {
          "base_uri": "https://localhost:8080/"
        },
        "id": "uRZRydvOp6sC",
        "outputId": "b4e28689-cbb5-4a27-cfc7-b55105af8445"
      },
      "execution_count": null,
      "outputs": [
        {
          "output_type": "stream",
          "name": "stdout",
          "text": [
            "+---+----------------+----------+---+-------+---------------+\n",
            "| id|            name|       dob|age| salary|flattened_array|\n",
            "+---+----------------+----------+---+-------+---------------+\n",
            "|  1|        John Doe|2024-08-01| 23| 1000.5|      [1, 2, 3]|\n",
            "|  2|      Jane Smith|2024-08-02| 34|2000.75|      [1, 2, 3]|\n",
            "|  3|      Jake White|2024-08-03| 18| 3000.1|      [1, 2, 3]|\n",
            "|  4|      Jill Black|2024-08-04| 45|4000.25|      [1, 2, 3]|\n",
            "|  5|     James Brown|2024-08-05| 29| 1500.3|      [1, 2, 3]|\n",
            "|  6|AyushKumarMishra|2024-08-06| 23| 2500.1|      [1, 2, 3]|\n",
            "+---+----------------+----------+---+-------+---------------+\n",
            "\n"
          ]
        }
      ]
    },
    {
      "cell_type": "code",
      "source": [
        "#grouping_id, #F\n",
        "from pyspark.sql.functions import grouping_id\n",
        "from pyspark.sql import functions as F"
      ],
      "metadata": {
        "id": "ThBGMhZPqCwr"
      },
      "execution_count": null,
      "outputs": []
    },
    {
      "cell_type": "code",
      "source": [
        "df_grouping_sets_ayush = df_ayush.cube(\"age\", \"salary\").agg(grouping_id().alias(\"grouping_id\"), F.sum(\"salary\"))\n",
        "df_grouping_sets_ayush.show()"
      ],
      "metadata": {
        "colab": {
          "base_uri": "https://localhost:8080/"
        },
        "id": "bMBiLxGqqInb",
        "outputId": "bfcad1da-ecb0-4ec1-fab8-1a48ed160a3b"
      },
      "execution_count": null,
      "outputs": [
        {
          "output_type": "stream",
          "name": "stdout",
          "text": [
            "+----+-------+-----------+-----------+\n",
            "| age| salary|grouping_id|sum(salary)|\n",
            "+----+-------+-----------+-----------+\n",
            "|NULL| 1000.5|          2|     1000.5|\n",
            "|  34|   NULL|          1|    2000.75|\n",
            "|NULL| 3000.1|          2|     3000.1|\n",
            "|NULL|   NULL|          3|    14002.0|\n",
            "|  23|   NULL|          1|     3500.6|\n",
            "|  34|2000.75|          0|    2000.75|\n",
            "|NULL|2000.75|          2|    2000.75|\n",
            "|  23| 1000.5|          0|     1000.5|\n",
            "|  18| 3000.1|          0|     3000.1|\n",
            "|  18|   NULL|          1|     3000.1|\n",
            "|  23| 2500.1|          0|     2500.1|\n",
            "|  29| 1500.3|          0|     1500.3|\n",
            "|NULL| 1500.3|          2|     1500.3|\n",
            "|  45|   NULL|          1|    4000.25|\n",
            "|NULL|4000.25|          2|    4000.25|\n",
            "|  29|   NULL|          1|     1500.3|\n",
            "|  45|4000.25|          0|    4000.25|\n",
            "|NULL| 2500.1|          2|     2500.1|\n",
            "+----+-------+-----------+-----------+\n",
            "\n"
          ]
        }
      ]
    },
    {
      "cell_type": "code",
      "source": [
        "df_rollup_ayush= df_ayush.rollup(\"age\", \"salary\").count()\n",
        "df_rollup_ayush.show()"
      ],
      "metadata": {
        "colab": {
          "base_uri": "https://localhost:8080/"
        },
        "id": "Z4EHTzBNqNID",
        "outputId": "100709a4-e373-4c1f-9076-d77ba708b016"
      },
      "execution_count": null,
      "outputs": [
        {
          "output_type": "stream",
          "name": "stdout",
          "text": [
            "+----+-------+-----+\n",
            "| age| salary|count|\n",
            "+----+-------+-----+\n",
            "|  34|   NULL|    1|\n",
            "|NULL|   NULL|    6|\n",
            "|  23|   NULL|    2|\n",
            "|  34|2000.75|    1|\n",
            "|  23| 1000.5|    1|\n",
            "|  18| 3000.1|    1|\n",
            "|  18|   NULL|    1|\n",
            "|  23| 2500.1|    1|\n",
            "|  29| 1500.3|    1|\n",
            "|  45|   NULL|    1|\n",
            "|  29|   NULL|    1|\n",
            "|  45|4000.25|    1|\n",
            "+----+-------+-----+\n",
            "\n"
          ]
        }
      ]
    },
    {
      "cell_type": "code",
      "source": [
        "#corr\n",
        "from pyspark.sql.functions import corr"
      ],
      "metadata": {
        "id": "s6nNSUkkqUar"
      },
      "execution_count": null,
      "outputs": []
    },
    {
      "cell_type": "code",
      "source": [
        "df_corr_ayush = df_ayush.select(corr(col(\"age\"), col(\"salary\")))\n",
        "df_corr_ayush.show()"
      ],
      "metadata": {
        "colab": {
          "base_uri": "https://localhost:8080/"
        },
        "id": "vEo_wb2pqXtD",
        "outputId": "cc14087f-4e98-41ab-f301-ee754b47af04"
      },
      "execution_count": null,
      "outputs": [
        {
          "output_type": "stream",
          "name": "stdout",
          "text": [
            "+-------------------+\n",
            "|  corr(age, salary)|\n",
            "+-------------------+\n",
            "|0.46955187960493777|\n",
            "+-------------------+\n",
            "\n"
          ]
        }
      ]
    },
    {
      "cell_type": "code",
      "source": [
        "#collect_list\n",
        "from pyspark.sql.functions import collect_list"
      ],
      "metadata": {
        "id": "EfFyM7ZSqcui"
      },
      "execution_count": null,
      "outputs": []
    },
    {
      "cell_type": "code",
      "source": [
        "from pyspark.sql.functions import collect_list"
      ],
      "metadata": {
        "id": "iwPvMFJJq2Sz"
      },
      "execution_count": null,
      "outputs": []
    },
    {
      "cell_type": "code",
      "source": [
        "df_all_ayush = df_ayush.groupBy(\"age\").agg(collect_list(\"name\").alias(\"names\")).show()\n",
        "df_all_ayush"
      ],
      "metadata": {
        "colab": {
          "base_uri": "https://localhost:8080/"
        },
        "id": "uy03YCoGqfLK",
        "outputId": "7644d392-fa38-44c9-8119-0276bb6cf111"
      },
      "execution_count": null,
      "outputs": [
        {
          "output_type": "stream",
          "name": "stdout",
          "text": [
            "+---+--------------------+\n",
            "|age|               names|\n",
            "+---+--------------------+\n",
            "| 34|        [Jane Smith]|\n",
            "| 18|        [Jake White]|\n",
            "| 23|[John Doe, AyushK...|\n",
            "| 29|       [James Brown]|\n",
            "| 45|        [Jill Black]|\n",
            "+---+--------------------+\n",
            "\n"
          ]
        }
      ]
    },
    {
      "cell_type": "code",
      "source": [],
      "metadata": {
        "id": "_-I5Vgb_qsCT"
      },
      "execution_count": null,
      "outputs": []
    }
  ]
}