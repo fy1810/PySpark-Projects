{
  "nbformat": 4,
  "nbformat_minor": 0,
  "metadata": {
    "colab": {
      "provenance": []
    },
    "kernelspec": {
      "name": "python3",
      "display_name": "Python 3"
    },
    "language_info": {
      "name": "python"
    }
  },
  "cells": [
    {
      "cell_type": "code",
      "execution_count": null,
      "metadata": {
        "colab": {
          "base_uri": "https://localhost:8080/"
        },
        "id": "SnM2FSYosQDj",
        "outputId": "93973aab-9688-4b05-b724-acb9b6ed4f89"
      },
      "outputs": [
        {
          "output_type": "stream",
          "name": "stdout",
          "text": [
            "Collecting pyspark\n",
            "  Downloading pyspark-3.5.1.tar.gz (317.0 MB)\n",
            "\u001b[2K     \u001b[90m━━━━━━━━━━━━━━━━━━━━━━━━━━━━━━━━━━━━━━━━\u001b[0m \u001b[32m317.0/317.0 MB\u001b[0m \u001b[31m4.6 MB/s\u001b[0m eta \u001b[36m0:00:00\u001b[0m\n",
            "\u001b[?25h  Preparing metadata (setup.py) ... \u001b[?25l\u001b[?25hdone\n",
            "Requirement already satisfied: py4j==0.10.9.7 in /usr/local/lib/python3.10/dist-packages (from pyspark) (0.10.9.7)\n",
            "Building wheels for collected packages: pyspark\n",
            "  Building wheel for pyspark (setup.py) ... \u001b[?25l\u001b[?25hdone\n",
            "  Created wheel for pyspark: filename=pyspark-3.5.1-py2.py3-none-any.whl size=317488493 sha256=555e91c75befef7d2e1994140666d5b8d8b7e89d6c16f352ce02467adcd0a12e\n",
            "  Stored in directory: /root/.cache/pip/wheels/80/1d/60/2c256ed38dddce2fdd93be545214a63e02fbd8d74fb0b7f3a6\n",
            "Successfully built pyspark\n",
            "Installing collected packages: pyspark\n",
            "Successfully installed pyspark-3.5.1\n"
          ]
        }
      ],
      "source": [
        "pip install pyspark"
      ]
    },
    {
      "cell_type": "code",
      "source": [
        "from pyspark.sql import SparkSession\n",
        "from pyspark.sql.functions import col"
      ],
      "metadata": {
        "id": "zIa2MeSksiqa"
      },
      "execution_count": null,
      "outputs": []
    },
    {
      "cell_type": "code",
      "source": [
        "spark = SparkSession.builder.appName(\"IrisDatasetExample\").getOrCreate()"
      ],
      "metadata": {
        "id": "K3oHssKZsxTC"
      },
      "execution_count": null,
      "outputs": []
    },
    {
      "cell_type": "code",
      "source": [
        "iris_data = [\n",
        "    (5.1, 3.5, 1.4, 0.2, \"Iris-setosa\"),\n",
        "    (4.9, 3.0, 1.4, 0.2, \"Iris-setosa\"),\n",
        "    (4.7, 3.2, 1.3, 0.2, \"Iris-setosa\"),\n",
        "    (7.0, 3.2, 4.7, 1.4, \"Iris-versicolor\"),\n",
        "    (6.4, 3.2, 4.5, 1.5, \"Iris-versicolor\"),\n",
        "    (6.9, 3.1, 4.9, 1.5, \"Iris-versicolor\"),\n",
        "    (5.9, 3.0, 5.1, 1.8, \"Iris-virginica\"),\n",
        "    (6.8, 3.0, 5.5, 2.1, \"Iris-virginica\"),\n",
        "    (6.7, 3.1, 5.6, 2.4, \"Iris-virginica\")\n",
        "]\n",
        "\n",
        "columns = [\"sepal_length\", \"sepal_width\", \"petal_length\", \"petal_width\", \"species\"]\n"
      ],
      "metadata": {
        "id": "b-Jf1Y7zs2qY"
      },
      "execution_count": null,
      "outputs": []
    },
    {
      "cell_type": "code",
      "source": [
        "df_ayush = spark.createDataFrame(iris_data, schema=columns)"
      ],
      "metadata": {
        "id": "y-UXiPY4s815"
      },
      "execution_count": null,
      "outputs": []
    },
    {
      "cell_type": "code",
      "source": [
        "df_ayush.show()"
      ],
      "metadata": {
        "colab": {
          "base_uri": "https://localhost:8080/"
        },
        "id": "EV6xp0yXs_Bx",
        "outputId": "d289e755-0418-40ba-882a-06a92920f08b"
      },
      "execution_count": null,
      "outputs": [
        {
          "output_type": "stream",
          "name": "stdout",
          "text": [
            "+------------+-----------+------------+-----------+---------------+\n",
            "|sepal_length|sepal_width|petal_length|petal_width|        species|\n",
            "+------------+-----------+------------+-----------+---------------+\n",
            "|         5.1|        3.5|         1.4|        0.2|    Iris-setosa|\n",
            "|         4.9|        3.0|         1.4|        0.2|    Iris-setosa|\n",
            "|         4.7|        3.2|         1.3|        0.2|    Iris-setosa|\n",
            "|         7.0|        3.2|         4.7|        1.4|Iris-versicolor|\n",
            "|         6.4|        3.2|         4.5|        1.5|Iris-versicolor|\n",
            "|         6.9|        3.1|         4.9|        1.5|Iris-versicolor|\n",
            "|         5.9|        3.0|         5.1|        1.8| Iris-virginica|\n",
            "|         6.8|        3.0|         5.5|        2.1| Iris-virginica|\n",
            "|         6.7|        3.1|         5.6|        2.4| Iris-virginica|\n",
            "+------------+-----------+------------+-----------+---------------+\n",
            "\n"
          ]
        }
      ]
    },
    {
      "cell_type": "code",
      "source": [
        "df_filtered_ayush = df_ayush.filter(col(\"species\") == \"Iris-setosa\")\n",
        "df_filtered_ayush.show()\n",
        "spark.stop()\n"
      ],
      "metadata": {
        "colab": {
          "base_uri": "https://localhost:8080/"
        },
        "id": "KOmLxgMdtDap",
        "outputId": "687d5f16-5324-453e-cb8f-9d68efc9a076"
      },
      "execution_count": null,
      "outputs": [
        {
          "output_type": "stream",
          "name": "stdout",
          "text": [
            "+------------+-----------+------------+-----------+-----------+\n",
            "|sepal_length|sepal_width|petal_length|petal_width|    species|\n",
            "+------------+-----------+------------+-----------+-----------+\n",
            "|         5.1|        3.5|         1.4|        0.2|Iris-setosa|\n",
            "|         4.9|        3.0|         1.4|        0.2|Iris-setosa|\n",
            "|         4.7|        3.2|         1.3|        0.2|Iris-setosa|\n",
            "+------------+-----------+------------+-----------+-----------+\n",
            "\n"
          ]
        }
      ]
    }
  ]
}